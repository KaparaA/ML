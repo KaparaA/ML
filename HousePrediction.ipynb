{
 "cells": [
  {
   "cell_type": "code",
   "execution_count": 1,
   "metadata": {},
   "outputs": [],
   "source": [
    "import pandas as pd\n",
    "import numpy as np\n",
    "import matplotlib.pyplot as plt\n",
    "\n",
    "import warnings\n",
    "warnings.filterwarnings('ignore')\n",
    "\n",
    "train=pd.read_csv('F:/ML/Projects/House Prices Advanced Regression Techniques/train.csv')\n",
    "test=pd.read_csv('F:/ML/Projects/House Prices Advanced Regression Techniques/test.csv')\n",
    "\n"
   ]
  },
  {
   "cell_type": "code",
   "execution_count": 2,
   "metadata": {},
   "outputs": [],
   "source": [
    "train_Id=train.Id\n",
    "test_Id=test.Id\n",
    "\n",
    "train.drop(columns='Id',inplace=True)\n",
    "test.drop(columns='Id',inplace=True)"
   ]
  },
  {
   "cell_type": "code",
   "execution_count": 3,
   "metadata": {},
   "outputs": [],
   "source": [
    "train_cat= train.select_dtypes(include='object')"
   ]
  },
  {
   "cell_type": "code",
   "execution_count": 4,
   "metadata": {},
   "outputs": [],
   "source": [
    "train_num=train.select_dtypes(exclude='object')"
   ]
  },
  {
   "cell_type": "code",
   "execution_count": 5,
   "metadata": {},
   "outputs": [],
   "source": [
    "test_cat= test.select_dtypes(include='object')"
   ]
  },
  {
   "cell_type": "code",
   "execution_count": 6,
   "metadata": {},
   "outputs": [],
   "source": [
    "test_num=test.select_dtypes(exclude='object')"
   ]
  },
  {
   "cell_type": "code",
   "execution_count": 7,
   "metadata": {},
   "outputs": [],
   "source": [
    "train_cat.drop(columns=['PoolQC','MiscFeature','Alley','Fence'],inplace=True)"
   ]
  },
  {
   "cell_type": "code",
   "execution_count": 8,
   "metadata": {},
   "outputs": [],
   "source": [
    "test_cat.drop(columns=['PoolQC','MiscFeature','Alley','Fence'],inplace=True)"
   ]
  },
  {
   "cell_type": "code",
   "execution_count": 9,
   "metadata": {},
   "outputs": [],
   "source": [
    "train_num.LotFrontage.fillna(train_num.LotFrontage.median(),inplace=True)\n",
    "train_num.GarageYrBlt.fillna(train_num.GarageYrBlt.median(),inplace=True)\n",
    "train_num.MasVnrArea.fillna(train_num.MasVnrArea.median(),inplace=True)"
   ]
  },
  {
   "cell_type": "code",
   "execution_count": 10,
   "metadata": {},
   "outputs": [],
   "source": [
    "test_num.LotFrontage.fillna(test_num.LotFrontage.median(),inplace=True)\n",
    "test_num.GarageYrBlt.fillna(test_num.GarageYrBlt.median(),inplace=True)\n",
    "test_num.MasVnrArea.fillna(test_num.MasVnrArea.median(),inplace=True)\n",
    "test_num.BsmtHalfBath.fillna(test_num.BsmtHalfBath.median(),inplace=True)\n",
    "test_num.BsmtFullBath.fillna(test_num.BsmtFullBath.median(),inplace=True)\n",
    "test_num.GarageArea.fillna(test_num.GarageArea.median(),inplace=True)\n",
    "test_num.BsmtFinSF1.fillna(test_num.BsmtFinSF1.median(),inplace=True)\n",
    "test_num.BsmtFinSF2.fillna(test_num.BsmtFinSF2.median(),inplace=True)\n",
    "test_num.BsmtUnfSF.fillna(test_num.BsmtUnfSF.median(),inplace=True)\n",
    "test_num.TotalBsmtSF.fillna(test_num.TotalBsmtSF.median(),inplace=True)\n",
    "test_num.GarageCars.fillna(test_num.GarageCars.median(),inplace=True)"
   ]
  },
  {
   "cell_type": "code",
   "execution_count": 11,
   "metadata": {},
   "outputs": [],
   "source": [
    "train_cat.FireplaceQu.fillna('Gd',inplace=True)\n",
    "train_cat.GarageCond.fillna('TA',inplace=True)\n",
    "train_cat.GarageQual.fillna('TA',inplace=True)\n",
    "train_cat.GarageFinish.fillna('Unf',inplace=True)\n",
    "train_cat.GarageType.fillna('Attchd',inplace=True)\n",
    "train_cat.BsmtExposure.fillna('No',inplace=True)\n",
    "train_cat.BsmtFinType2.fillna('Unf',inplace=True)\n",
    "train_cat.BsmtQual.fillna('TA',inplace=True)\n",
    "train_cat.BsmtCond.fillna('TA',inplace=True)\n",
    "train_cat.BsmtFinType1.fillna('Unf',inplace=True)\n",
    "train_cat.MasVnrType.fillna('None',inplace=True)\n",
    "train_cat.Electrical.fillna('SBrkr',inplace=True)"
   ]
  },
  {
   "cell_type": "code",
   "execution_count": 12,
   "metadata": {},
   "outputs": [],
   "source": [
    "test_cat.FireplaceQu.fillna('Gd',inplace=True)\n",
    "test_cat.GarageCond.fillna('TA',inplace=True)\n",
    "test_cat.GarageQual.fillna('TA',inplace=True)\n",
    "test_cat.GarageFinish.fillna('Unf',inplace=True)\n",
    "test_cat.GarageType.fillna('Attchd',inplace=True)\n",
    "test_cat.BsmtExposure.fillna('No',inplace=True)\n",
    "test_cat.BsmtFinType2.fillna('Unf',inplace=True)\n",
    "test_cat.BsmtQual.fillna('TA',inplace=True)\n",
    "test_cat.BsmtCond.fillna('TA',inplace=True)\n",
    "test_cat.BsmtFinType1.fillna('Unf',inplace=True)\n",
    "test_cat.MasVnrType.fillna('None',inplace=True)\n",
    "test_cat.Electrical.fillna('SBrkr',inplace=True)\n",
    "test_cat.MSZoning.fillna('RL',inplace=True)\n",
    "test_cat.Functional.fillna('Typ',inplace=True)\n",
    "test_cat.Utilities.fillna('AllPub',inplace=True)\n",
    "test_cat.Exterior1st.fillna('VinylSd',inplace=True)\n",
    "test_cat.Exterior2nd.fillna('VinylSd',inplace=True)\n",
    "test_cat.KitchenQual.fillna('TA',inplace=True)\n",
    "test_cat.SaleType.fillna('WD',inplace=True)\n"
   ]
  },
  {
   "cell_type": "code",
   "execution_count": 13,
   "metadata": {},
   "outputs": [
    {
     "data": {
      "text/plain": [
       "SalePrice        0\n",
       "BsmtHalfBath     0\n",
       "GrLivArea        0\n",
       "LowQualFinSF     0\n",
       "2ndFlrSF         0\n",
       "1stFlrSF         0\n",
       "TotalBsmtSF      0\n",
       "BsmtUnfSF        0\n",
       "BsmtFinSF2       0\n",
       "BsmtFinSF1       0\n",
       "MasVnrArea       0\n",
       "YearRemodAdd     0\n",
       "YearBuilt        0\n",
       "OverallCond      0\n",
       "OverallQual      0\n",
       "LotArea          0\n",
       "LotFrontage      0\n",
       "BsmtFullBath     0\n",
       "FullBath         0\n",
       "YrSold           0\n",
       "HalfBath         0\n",
       "MoSold           0\n",
       "MiscVal          0\n",
       "PoolArea         0\n",
       "ScreenPorch      0\n",
       "3SsnPorch        0\n",
       "EnclosedPorch    0\n",
       "OpenPorchSF      0\n",
       "WoodDeckSF       0\n",
       "GarageArea       0\n",
       "GarageCars       0\n",
       "GarageYrBlt      0\n",
       "Fireplaces       0\n",
       "TotRmsAbvGrd     0\n",
       "KitchenAbvGr     0\n",
       "BedroomAbvGr     0\n",
       "MSSubClass       0\n",
       "dtype: int64"
      ]
     },
     "execution_count": 13,
     "metadata": {},
     "output_type": "execute_result"
    }
   ],
   "source": [
    "train_num.isnull().sum().sort_values(ascending=False)"
   ]
  },
  {
   "cell_type": "code",
   "execution_count": 14,
   "metadata": {},
   "outputs": [],
   "source": [
    "combined_cat=pd.concat([train_cat,test_cat],axis=0)"
   ]
  },
  {
   "cell_type": "code",
   "execution_count": 15,
   "metadata": {},
   "outputs": [
    {
     "data": {
      "text/plain": [
       "(2919, 39)"
      ]
     },
     "execution_count": 15,
     "metadata": {},
     "output_type": "execute_result"
    }
   ],
   "source": [
    "combined_cat.shape"
   ]
  },
  {
   "cell_type": "code",
   "execution_count": 16,
   "metadata": {},
   "outputs": [],
   "source": [
    "dummy=pd.get_dummies(combined_cat,drop_first=True)"
   ]
  },
  {
   "cell_type": "code",
   "execution_count": 17,
   "metadata": {},
   "outputs": [
    {
     "data": {
      "text/plain": [
       "(2919, 200)"
      ]
     },
     "execution_count": 17,
     "metadata": {},
     "output_type": "execute_result"
    }
   ],
   "source": [
    "dummy.shape"
   ]
  },
  {
   "cell_type": "code",
   "execution_count": 18,
   "metadata": {},
   "outputs": [],
   "source": [
    "combined_num=pd.concat([train_num,test_num],axis=0)"
   ]
  },
  {
   "cell_type": "code",
   "execution_count": 19,
   "metadata": {},
   "outputs": [
    {
     "data": {
      "text/plain": [
       "(2919, 37)"
      ]
     },
     "execution_count": 19,
     "metadata": {},
     "output_type": "execute_result"
    }
   ],
   "source": [
    "combined_num.shape"
   ]
  },
  {
   "cell_type": "code",
   "execution_count": 20,
   "metadata": {},
   "outputs": [],
   "source": [
    "All_combined=pd.concat([dummy,combined_num],axis=1)"
   ]
  },
  {
   "cell_type": "code",
   "execution_count": 21,
   "metadata": {},
   "outputs": [
    {
     "data": {
      "text/plain": [
       "(2919, 237)"
      ]
     },
     "execution_count": 21,
     "metadata": {},
     "output_type": "execute_result"
    }
   ],
   "source": [
    "All_combined.shape"
   ]
  },
  {
   "cell_type": "code",
   "execution_count": 22,
   "metadata": {},
   "outputs": [
    {
     "data": {
      "text/plain": [
       "1459"
      ]
     },
     "execution_count": 22,
     "metadata": {},
     "output_type": "execute_result"
    }
   ],
   "source": [
    "All_combined.SalePrice.isnull().sum()"
   ]
  },
  {
   "cell_type": "code",
   "execution_count": 23,
   "metadata": {},
   "outputs": [
    {
     "data": {
      "text/plain": [
       "SalePrice              1459\n",
       "YrSold                    0\n",
       "RoofMatl_CompShg          0\n",
       "Exterior1st_HdBoard       0\n",
       "Exterior1st_CemntBd       0\n",
       "Exterior1st_CBlock        0\n",
       "Exterior1st_BrkFace       0\n",
       "Exterior1st_BrkComm       0\n",
       "Exterior1st_AsphShn       0\n",
       "RoofMatl_WdShngl          0\n",
       "RoofMatl_WdShake          0\n",
       "RoofMatl_Tar&Grv          0\n",
       "RoofMatl_Roll             0\n",
       "RoofMatl_Metal            0\n",
       "RoofMatl_Membran          0\n",
       "RoofStyle_Shed            0\n",
       "Exterior1st_MetalSd       0\n",
       "RoofStyle_Mansard         0\n",
       "RoofStyle_Hip             0\n",
       "RoofStyle_Gambrel         0\n",
       "RoofStyle_Gable           0\n",
       "HouseStyle_SLvl           0\n",
       "HouseStyle_SFoyer         0\n",
       "HouseStyle_2Story         0\n",
       "HouseStyle_2.5Unf         0\n",
       "HouseStyle_2.5Fin         0\n",
       "HouseStyle_1Story         0\n",
       "HouseStyle_1.5Unf         0\n",
       "BldgType_TwnhsE           0\n",
       "Exterior1st_ImStucc       0\n",
       "Exterior1st_Plywood       0\n",
       "BldgType_Duplex           0\n",
       "Exterior2nd_Plywood       0\n",
       "ExterCond_Fa              0\n",
       "ExterQual_TA              0\n",
       "ExterQual_Gd              0\n",
       "ExterQual_Fa              0\n",
       "MasVnrType_Stone          0\n",
       "MasVnrType_None           0\n",
       "MasVnrType_BrkFace        0\n",
       "Exterior2nd_Wd Shng       0\n",
       "Exterior2nd_Wd Sdng       0\n",
       "Exterior2nd_VinylSd       0\n",
       "Exterior2nd_Stucco        0\n",
       "Exterior2nd_Stone         0\n",
       "Exterior2nd_Other         0\n",
       "Exterior1st_Stone         0\n",
       "Exterior2nd_MetalSd       0\n",
       "Exterior2nd_ImStucc       0\n",
       "Exterior2nd_HdBoard       0\n",
       "dtype: int64"
      ]
     },
     "execution_count": 23,
     "metadata": {},
     "output_type": "execute_result"
    }
   ],
   "source": [
    "All_combined.isnull().sum().sort_values(ascending=False).head(50)"
   ]
  },
  {
   "cell_type": "code",
   "execution_count": 24,
   "metadata": {},
   "outputs": [],
   "source": [
    "Train_data=All_combined[All_combined.SalePrice.isnull()]"
   ]
  },
  {
   "cell_type": "code",
   "execution_count": 25,
   "metadata": {},
   "outputs": [],
   "source": [
    "Train_data.drop(Train_data[(Train_data.SalePrice<300000) & (Train_data.GrLivArea>4000)].index,inplace=True)"
   ]
  },
  {
   "cell_type": "code",
   "execution_count": 26,
   "metadata": {},
   "outputs": [
    {
     "data": {
      "text/plain": [
       "(1459, 237)"
      ]
     },
     "execution_count": 26,
     "metadata": {},
     "output_type": "execute_result"
    }
   ],
   "source": [
    "Train_data.shape"
   ]
  },
  {
   "cell_type": "code",
   "execution_count": 27,
   "metadata": {},
   "outputs": [
    {
     "data": {
      "text/html": [
       "<div>\n",
       "<style scoped>\n",
       "    .dataframe tbody tr th:only-of-type {\n",
       "        vertical-align: middle;\n",
       "    }\n",
       "\n",
       "    .dataframe tbody tr th {\n",
       "        vertical-align: top;\n",
       "    }\n",
       "\n",
       "    .dataframe thead th {\n",
       "        text-align: right;\n",
       "    }\n",
       "</style>\n",
       "<table border=\"1\" class=\"dataframe\">\n",
       "  <thead>\n",
       "    <tr style=\"text-align: right;\">\n",
       "      <th></th>\n",
       "      <th>MSZoning_FV</th>\n",
       "      <th>MSZoning_RH</th>\n",
       "      <th>MSZoning_RL</th>\n",
       "      <th>MSZoning_RM</th>\n",
       "      <th>Street_Pave</th>\n",
       "      <th>LotShape_IR2</th>\n",
       "      <th>LotShape_IR3</th>\n",
       "      <th>LotShape_Reg</th>\n",
       "      <th>LandContour_HLS</th>\n",
       "      <th>LandContour_Low</th>\n",
       "      <th>...</th>\n",
       "      <th>OverallQual</th>\n",
       "      <th>PoolArea</th>\n",
       "      <th>SalePrice</th>\n",
       "      <th>ScreenPorch</th>\n",
       "      <th>TotRmsAbvGrd</th>\n",
       "      <th>TotalBsmtSF</th>\n",
       "      <th>WoodDeckSF</th>\n",
       "      <th>YearBuilt</th>\n",
       "      <th>YearRemodAdd</th>\n",
       "      <th>YrSold</th>\n",
       "    </tr>\n",
       "  </thead>\n",
       "  <tbody>\n",
       "    <tr>\n",
       "      <td>0</td>\n",
       "      <td>0</td>\n",
       "      <td>1</td>\n",
       "      <td>0</td>\n",
       "      <td>0</td>\n",
       "      <td>1</td>\n",
       "      <td>0</td>\n",
       "      <td>0</td>\n",
       "      <td>1</td>\n",
       "      <td>0</td>\n",
       "      <td>0</td>\n",
       "      <td>...</td>\n",
       "      <td>5</td>\n",
       "      <td>0</td>\n",
       "      <td>NaN</td>\n",
       "      <td>120</td>\n",
       "      <td>5</td>\n",
       "      <td>882.0</td>\n",
       "      <td>140</td>\n",
       "      <td>1961</td>\n",
       "      <td>1961</td>\n",
       "      <td>2010</td>\n",
       "    </tr>\n",
       "    <tr>\n",
       "      <td>1</td>\n",
       "      <td>0</td>\n",
       "      <td>0</td>\n",
       "      <td>1</td>\n",
       "      <td>0</td>\n",
       "      <td>1</td>\n",
       "      <td>0</td>\n",
       "      <td>0</td>\n",
       "      <td>0</td>\n",
       "      <td>0</td>\n",
       "      <td>0</td>\n",
       "      <td>...</td>\n",
       "      <td>6</td>\n",
       "      <td>0</td>\n",
       "      <td>NaN</td>\n",
       "      <td>0</td>\n",
       "      <td>6</td>\n",
       "      <td>1329.0</td>\n",
       "      <td>393</td>\n",
       "      <td>1958</td>\n",
       "      <td>1958</td>\n",
       "      <td>2010</td>\n",
       "    </tr>\n",
       "    <tr>\n",
       "      <td>2</td>\n",
       "      <td>0</td>\n",
       "      <td>0</td>\n",
       "      <td>1</td>\n",
       "      <td>0</td>\n",
       "      <td>1</td>\n",
       "      <td>0</td>\n",
       "      <td>0</td>\n",
       "      <td>0</td>\n",
       "      <td>0</td>\n",
       "      <td>0</td>\n",
       "      <td>...</td>\n",
       "      <td>5</td>\n",
       "      <td>0</td>\n",
       "      <td>NaN</td>\n",
       "      <td>0</td>\n",
       "      <td>6</td>\n",
       "      <td>928.0</td>\n",
       "      <td>212</td>\n",
       "      <td>1997</td>\n",
       "      <td>1998</td>\n",
       "      <td>2010</td>\n",
       "    </tr>\n",
       "    <tr>\n",
       "      <td>3</td>\n",
       "      <td>0</td>\n",
       "      <td>0</td>\n",
       "      <td>1</td>\n",
       "      <td>0</td>\n",
       "      <td>1</td>\n",
       "      <td>0</td>\n",
       "      <td>0</td>\n",
       "      <td>0</td>\n",
       "      <td>0</td>\n",
       "      <td>0</td>\n",
       "      <td>...</td>\n",
       "      <td>6</td>\n",
       "      <td>0</td>\n",
       "      <td>NaN</td>\n",
       "      <td>0</td>\n",
       "      <td>7</td>\n",
       "      <td>926.0</td>\n",
       "      <td>360</td>\n",
       "      <td>1998</td>\n",
       "      <td>1998</td>\n",
       "      <td>2010</td>\n",
       "    </tr>\n",
       "    <tr>\n",
       "      <td>4</td>\n",
       "      <td>0</td>\n",
       "      <td>0</td>\n",
       "      <td>1</td>\n",
       "      <td>0</td>\n",
       "      <td>1</td>\n",
       "      <td>0</td>\n",
       "      <td>0</td>\n",
       "      <td>0</td>\n",
       "      <td>1</td>\n",
       "      <td>0</td>\n",
       "      <td>...</td>\n",
       "      <td>8</td>\n",
       "      <td>0</td>\n",
       "      <td>NaN</td>\n",
       "      <td>144</td>\n",
       "      <td>5</td>\n",
       "      <td>1280.0</td>\n",
       "      <td>0</td>\n",
       "      <td>1992</td>\n",
       "      <td>1992</td>\n",
       "      <td>2010</td>\n",
       "    </tr>\n",
       "  </tbody>\n",
       "</table>\n",
       "<p>5 rows × 237 columns</p>\n",
       "</div>"
      ],
      "text/plain": [
       "   MSZoning_FV  MSZoning_RH  MSZoning_RL  MSZoning_RM  Street_Pave  \\\n",
       "0            0            1            0            0            1   \n",
       "1            0            0            1            0            1   \n",
       "2            0            0            1            0            1   \n",
       "3            0            0            1            0            1   \n",
       "4            0            0            1            0            1   \n",
       "\n",
       "   LotShape_IR2  LotShape_IR3  LotShape_Reg  LandContour_HLS  LandContour_Low  \\\n",
       "0             0             0             1                0                0   \n",
       "1             0             0             0                0                0   \n",
       "2             0             0             0                0                0   \n",
       "3             0             0             0                0                0   \n",
       "4             0             0             0                1                0   \n",
       "\n",
       "   ...  OverallQual  PoolArea  SalePrice  ScreenPorch  TotRmsAbvGrd  \\\n",
       "0  ...            5         0        NaN          120             5   \n",
       "1  ...            6         0        NaN            0             6   \n",
       "2  ...            5         0        NaN            0             6   \n",
       "3  ...            6         0        NaN            0             7   \n",
       "4  ...            8         0        NaN          144             5   \n",
       "\n",
       "   TotalBsmtSF  WoodDeckSF  YearBuilt  YearRemodAdd  YrSold  \n",
       "0        882.0         140       1961          1961    2010  \n",
       "1       1329.0         393       1958          1958    2010  \n",
       "2        928.0         212       1997          1998    2010  \n",
       "3        926.0         360       1998          1998    2010  \n",
       "4       1280.0           0       1992          1992    2010  \n",
       "\n",
       "[5 rows x 237 columns]"
      ]
     },
     "execution_count": 27,
     "metadata": {},
     "output_type": "execute_result"
    }
   ],
   "source": [
    "Train_data.head()"
   ]
  },
  {
   "cell_type": "code",
   "execution_count": 28,
   "metadata": {},
   "outputs": [
    {
     "data": {
      "text/plain": [
       "SalePrice              1459\n",
       "YrSold                    0\n",
       "RoofMatl_CompShg          0\n",
       "Exterior1st_HdBoard       0\n",
       "Exterior1st_CemntBd       0\n",
       "                       ... \n",
       "Electrical_FuseF          0\n",
       "CentralAir_Y              0\n",
       "HeatingQC_TA              0\n",
       "HeatingQC_Po              0\n",
       "MSZoning_FV               0\n",
       "Length: 237, dtype: int64"
      ]
     },
     "execution_count": 28,
     "metadata": {},
     "output_type": "execute_result"
    }
   ],
   "source": [
    "Train_data.isnull().sum().sort_values(ascending=False)"
   ]
  },
  {
   "cell_type": "code",
   "execution_count": 29,
   "metadata": {},
   "outputs": [
    {
     "data": {
      "text/plain": [
       "1459"
      ]
     },
     "execution_count": 29,
     "metadata": {},
     "output_type": "execute_result"
    }
   ],
   "source": [
    "Train_data.SalePrice.isnull().sum()"
   ]
  },
  {
   "cell_type": "code",
   "execution_count": 30,
   "metadata": {},
   "outputs": [],
   "source": [
    "Train_data.to_csv('F:/ML/Projects/House Prices Advanced Regression Techniques/Train_data.csv',index=False)"
   ]
  },
  {
   "cell_type": "code",
   "execution_count": 31,
   "metadata": {},
   "outputs": [],
   "source": [
    "Test_data=All_combined[All_combined.SalePrice.notnull()]"
   ]
  },
  {
   "cell_type": "code",
   "execution_count": 32,
   "metadata": {},
   "outputs": [
    {
     "data": {
      "text/plain": [
       "(1460, 237)"
      ]
     },
     "execution_count": 32,
     "metadata": {},
     "output_type": "execute_result"
    }
   ],
   "source": [
    "Test_data.shape"
   ]
  },
  {
   "cell_type": "code",
   "execution_count": 33,
   "metadata": {},
   "outputs": [],
   "source": [
    "Test_data.drop(Test_data[(Test_data.SalePrice<300000) & (Test_data.GrLivArea>4000)].index,inplace=True)"
   ]
  },
  {
   "cell_type": "code",
   "execution_count": 34,
   "metadata": {},
   "outputs": [
    {
     "data": {
      "text/plain": [
       "(1458, 237)"
      ]
     },
     "execution_count": 34,
     "metadata": {},
     "output_type": "execute_result"
    }
   ],
   "source": [
    "Test_data.shape"
   ]
  },
  {
   "cell_type": "code",
   "execution_count": 35,
   "metadata": {},
   "outputs": [],
   "source": [
    "Test_data.to_csv('F:/ML/Projects/House Prices Advanced Regression Techniques/Test_data.csv',index=False)"
   ]
  },
  {
   "cell_type": "code",
   "execution_count": 36,
   "metadata": {},
   "outputs": [
    {
     "data": {
      "text/plain": [
       "YrSold                 0\n",
       "RoofMatl_CompShg       0\n",
       "Exterior1st_HdBoard    0\n",
       "Exterior1st_CemntBd    0\n",
       "Exterior1st_CBlock     0\n",
       "                      ..\n",
       "Electrical_FuseF       0\n",
       "CentralAir_Y           0\n",
       "HeatingQC_TA           0\n",
       "HeatingQC_Po           0\n",
       "MSZoning_FV            0\n",
       "Length: 237, dtype: int64"
      ]
     },
     "execution_count": 36,
     "metadata": {},
     "output_type": "execute_result"
    }
   ],
   "source": [
    "Test_data.isnull().sum().sort_values(ascending=False)"
   ]
  },
  {
   "cell_type": "code",
   "execution_count": 37,
   "metadata": {},
   "outputs": [
    {
     "data": {
      "text/plain": [
       "(1459, 237)"
      ]
     },
     "execution_count": 37,
     "metadata": {},
     "output_type": "execute_result"
    }
   ],
   "source": [
    "Train_data.shape"
   ]
  },
  {
   "cell_type": "code",
   "execution_count": 38,
   "metadata": {},
   "outputs": [
    {
     "data": {
      "text/html": [
       "<div>\n",
       "<style scoped>\n",
       "    .dataframe tbody tr th:only-of-type {\n",
       "        vertical-align: middle;\n",
       "    }\n",
       "\n",
       "    .dataframe tbody tr th {\n",
       "        vertical-align: top;\n",
       "    }\n",
       "\n",
       "    .dataframe thead th {\n",
       "        text-align: right;\n",
       "    }\n",
       "</style>\n",
       "<table border=\"1\" class=\"dataframe\">\n",
       "  <thead>\n",
       "    <tr style=\"text-align: right;\">\n",
       "      <th></th>\n",
       "      <th>MSZoning_FV</th>\n",
       "      <th>MSZoning_RH</th>\n",
       "      <th>MSZoning_RL</th>\n",
       "      <th>MSZoning_RM</th>\n",
       "      <th>Street_Pave</th>\n",
       "      <th>LotShape_IR2</th>\n",
       "      <th>LotShape_IR3</th>\n",
       "      <th>LotShape_Reg</th>\n",
       "      <th>LandContour_HLS</th>\n",
       "      <th>LandContour_Low</th>\n",
       "      <th>...</th>\n",
       "      <th>OverallQual</th>\n",
       "      <th>PoolArea</th>\n",
       "      <th>SalePrice</th>\n",
       "      <th>ScreenPorch</th>\n",
       "      <th>TotRmsAbvGrd</th>\n",
       "      <th>TotalBsmtSF</th>\n",
       "      <th>WoodDeckSF</th>\n",
       "      <th>YearBuilt</th>\n",
       "      <th>YearRemodAdd</th>\n",
       "      <th>YrSold</th>\n",
       "    </tr>\n",
       "  </thead>\n",
       "  <tbody>\n",
       "    <tr>\n",
       "      <td>MSZoning_FV</td>\n",
       "      <td>1.000000</td>\n",
       "      <td>-0.019202</td>\n",
       "      <td>-0.418538</td>\n",
       "      <td>-0.103075</td>\n",
       "      <td>0.014854</td>\n",
       "      <td>-0.015825</td>\n",
       "      <td>-0.014854</td>\n",
       "      <td>-0.021947</td>\n",
       "      <td>-0.051891</td>\n",
       "      <td>-0.029893</td>\n",
       "      <td>...</td>\n",
       "      <td>0.200440</td>\n",
       "      <td>-0.013228</td>\n",
       "      <td>NaN</td>\n",
       "      <td>-0.028635</td>\n",
       "      <td>-0.056958</td>\n",
       "      <td>0.047513</td>\n",
       "      <td>-0.046938</td>\n",
       "      <td>0.246102</td>\n",
       "      <td>0.223435</td>\n",
       "      <td>0.048108</td>\n",
       "    </tr>\n",
       "    <tr>\n",
       "      <td>MSZoning_RH</td>\n",
       "      <td>-0.019202</td>\n",
       "      <td>1.000000</td>\n",
       "      <td>-0.150421</td>\n",
       "      <td>-0.037045</td>\n",
       "      <td>0.005338</td>\n",
       "      <td>0.095559</td>\n",
       "      <td>-0.005338</td>\n",
       "      <td>-0.006952</td>\n",
       "      <td>-0.018649</td>\n",
       "      <td>-0.010743</td>\n",
       "      <td>...</td>\n",
       "      <td>-0.033478</td>\n",
       "      <td>-0.004754</td>\n",
       "      <td>NaN</td>\n",
       "      <td>-0.007435</td>\n",
       "      <td>-0.026722</td>\n",
       "      <td>-0.012403</td>\n",
       "      <td>-0.005188</td>\n",
       "      <td>-0.020120</td>\n",
       "      <td>-0.042722</td>\n",
       "      <td>0.046622</td>\n",
       "    </tr>\n",
       "    <tr>\n",
       "      <td>MSZoning_RL</td>\n",
       "      <td>-0.418538</td>\n",
       "      <td>-0.150421</td>\n",
       "      <td>1.000000</td>\n",
       "      <td>-0.807432</td>\n",
       "      <td>0.065740</td>\n",
       "      <td>0.044246</td>\n",
       "      <td>-0.015126</td>\n",
       "      <td>-0.225090</td>\n",
       "      <td>0.033044</td>\n",
       "      <td>0.045957</td>\n",
       "      <td>...</td>\n",
       "      <td>0.137428</td>\n",
       "      <td>0.031605</td>\n",
       "      <td>NaN</td>\n",
       "      <td>0.064908</td>\n",
       "      <td>0.124929</td>\n",
       "      <td>0.237872</td>\n",
       "      <td>0.174279</td>\n",
       "      <td>0.303288</td>\n",
       "      <td>0.099522</td>\n",
       "      <td>-0.047955</td>\n",
       "    </tr>\n",
       "    <tr>\n",
       "      <td>MSZoning_RM</td>\n",
       "      <td>-0.103075</td>\n",
       "      <td>-0.037045</td>\n",
       "      <td>-0.807432</td>\n",
       "      <td>1.000000</td>\n",
       "      <td>-0.000138</td>\n",
       "      <td>-0.057868</td>\n",
       "      <td>0.028932</td>\n",
       "      <td>0.253700</td>\n",
       "      <td>0.003357</td>\n",
       "      <td>-0.028695</td>\n",
       "      <td>...</td>\n",
       "      <td>-0.225888</td>\n",
       "      <td>-0.025519</td>\n",
       "      <td>NaN</td>\n",
       "      <td>-0.046973</td>\n",
       "      <td>-0.090665</td>\n",
       "      <td>-0.267175</td>\n",
       "      <td>-0.151500</td>\n",
       "      <td>-0.437537</td>\n",
       "      <td>-0.208437</td>\n",
       "      <td>0.016612</td>\n",
       "    </tr>\n",
       "    <tr>\n",
       "      <td>Street_Pave</td>\n",
       "      <td>0.014854</td>\n",
       "      <td>0.005338</td>\n",
       "      <td>0.065740</td>\n",
       "      <td>-0.000138</td>\n",
       "      <td>1.000000</td>\n",
       "      <td>0.010074</td>\n",
       "      <td>0.004129</td>\n",
       "      <td>-0.025863</td>\n",
       "      <td>0.014426</td>\n",
       "      <td>0.008310</td>\n",
       "      <td>...</td>\n",
       "      <td>0.085549</td>\n",
       "      <td>0.003677</td>\n",
       "      <td>NaN</td>\n",
       "      <td>0.019377</td>\n",
       "      <td>0.059012</td>\n",
       "      <td>0.063943</td>\n",
       "      <td>0.036906</td>\n",
       "      <td>0.102993</td>\n",
       "      <td>0.095309</td>\n",
       "      <td>-0.011372</td>\n",
       "    </tr>\n",
       "    <tr>\n",
       "      <td>...</td>\n",
       "      <td>...</td>\n",
       "      <td>...</td>\n",
       "      <td>...</td>\n",
       "      <td>...</td>\n",
       "      <td>...</td>\n",
       "      <td>...</td>\n",
       "      <td>...</td>\n",
       "      <td>...</td>\n",
       "      <td>...</td>\n",
       "      <td>...</td>\n",
       "      <td>...</td>\n",
       "      <td>...</td>\n",
       "      <td>...</td>\n",
       "      <td>...</td>\n",
       "      <td>...</td>\n",
       "      <td>...</td>\n",
       "      <td>...</td>\n",
       "      <td>...</td>\n",
       "      <td>...</td>\n",
       "      <td>...</td>\n",
       "      <td>...</td>\n",
       "    </tr>\n",
       "    <tr>\n",
       "      <td>TotalBsmtSF</td>\n",
       "      <td>0.047513</td>\n",
       "      <td>-0.012403</td>\n",
       "      <td>0.237872</td>\n",
       "      <td>-0.267175</td>\n",
       "      <td>0.063943</td>\n",
       "      <td>0.042984</td>\n",
       "      <td>0.027841</td>\n",
       "      <td>-0.224800</td>\n",
       "      <td>0.128807</td>\n",
       "      <td>0.020029</td>\n",
       "      <td>...</td>\n",
       "      <td>0.560038</td>\n",
       "      <td>0.003152</td>\n",
       "      <td>NaN</td>\n",
       "      <td>0.066967</td>\n",
       "      <td>0.278310</td>\n",
       "      <td>1.000000</td>\n",
       "      <td>0.227215</td>\n",
       "      <td>0.425418</td>\n",
       "      <td>0.304391</td>\n",
       "      <td>-0.007833</td>\n",
       "    </tr>\n",
       "    <tr>\n",
       "      <td>WoodDeckSF</td>\n",
       "      <td>-0.046938</td>\n",
       "      <td>-0.005188</td>\n",
       "      <td>0.174279</td>\n",
       "      <td>-0.151500</td>\n",
       "      <td>0.036906</td>\n",
       "      <td>0.027882</td>\n",
       "      <td>-0.007888</td>\n",
       "      <td>-0.179666</td>\n",
       "      <td>0.045474</td>\n",
       "      <td>0.151687</td>\n",
       "      <td>...</td>\n",
       "      <td>0.270790</td>\n",
       "      <td>0.123409</td>\n",
       "      <td>NaN</td>\n",
       "      <td>-0.030682</td>\n",
       "      <td>0.146832</td>\n",
       "      <td>0.227215</td>\n",
       "      <td>1.000000</td>\n",
       "      <td>0.233889</td>\n",
       "      <td>0.230724</td>\n",
       "      <td>-0.022818</td>\n",
       "    </tr>\n",
       "    <tr>\n",
       "      <td>YearBuilt</td>\n",
       "      <td>0.246102</td>\n",
       "      <td>-0.020120</td>\n",
       "      <td>0.303288</td>\n",
       "      <td>-0.437537</td>\n",
       "      <td>0.102993</td>\n",
       "      <td>0.105051</td>\n",
       "      <td>0.013697</td>\n",
       "      <td>-0.341139</td>\n",
       "      <td>0.082019</td>\n",
       "      <td>-0.016600</td>\n",
       "      <td>...</td>\n",
       "      <td>0.621910</td>\n",
       "      <td>-0.001060</td>\n",
       "      <td>NaN</td>\n",
       "      <td>-0.031984</td>\n",
       "      <td>0.134839</td>\n",
       "      <td>0.425418</td>\n",
       "      <td>0.233889</td>\n",
       "      <td>1.000000</td>\n",
       "      <td>0.631696</td>\n",
       "      <td>-0.011006</td>\n",
       "    </tr>\n",
       "    <tr>\n",
       "      <td>YearRemodAdd</td>\n",
       "      <td>0.223435</td>\n",
       "      <td>-0.042722</td>\n",
       "      <td>0.099522</td>\n",
       "      <td>-0.208437</td>\n",
       "      <td>0.095309</td>\n",
       "      <td>0.093263</td>\n",
       "      <td>0.038546</td>\n",
       "      <td>-0.236151</td>\n",
       "      <td>0.074637</td>\n",
       "      <td>-0.049210</td>\n",
       "      <td>...</td>\n",
       "      <td>0.591267</td>\n",
       "      <td>-0.034862</td>\n",
       "      <td>NaN</td>\n",
       "      <td>-0.053761</td>\n",
       "      <td>0.203619</td>\n",
       "      <td>0.304391</td>\n",
       "      <td>0.230724</td>\n",
       "      <td>0.631696</td>\n",
       "      <td>1.000000</td>\n",
       "      <td>0.029715</td>\n",
       "    </tr>\n",
       "    <tr>\n",
       "      <td>YrSold</td>\n",
       "      <td>0.048108</td>\n",
       "      <td>0.046622</td>\n",
       "      <td>-0.047955</td>\n",
       "      <td>0.016612</td>\n",
       "      <td>-0.011372</td>\n",
       "      <td>-0.047983</td>\n",
       "      <td>0.003142</td>\n",
       "      <td>0.027540</td>\n",
       "      <td>-0.029276</td>\n",
       "      <td>-0.001958</td>\n",
       "      <td>...</td>\n",
       "      <td>-0.012291</td>\n",
       "      <td>-0.045185</td>\n",
       "      <td>NaN</td>\n",
       "      <td>-0.023439</td>\n",
       "      <td>-0.031627</td>\n",
       "      <td>-0.007833</td>\n",
       "      <td>-0.022818</td>\n",
       "      <td>-0.011006</td>\n",
       "      <td>0.029715</td>\n",
       "      <td>1.000000</td>\n",
       "    </tr>\n",
       "  </tbody>\n",
       "</table>\n",
       "<p>237 rows × 237 columns</p>\n",
       "</div>"
      ],
      "text/plain": [
       "              MSZoning_FV  MSZoning_RH  MSZoning_RL  MSZoning_RM  Street_Pave  \\\n",
       "MSZoning_FV      1.000000    -0.019202    -0.418538    -0.103075     0.014854   \n",
       "MSZoning_RH     -0.019202     1.000000    -0.150421    -0.037045     0.005338   \n",
       "MSZoning_RL     -0.418538    -0.150421     1.000000    -0.807432     0.065740   \n",
       "MSZoning_RM     -0.103075    -0.037045    -0.807432     1.000000    -0.000138   \n",
       "Street_Pave      0.014854     0.005338     0.065740    -0.000138     1.000000   \n",
       "...                   ...          ...          ...          ...          ...   \n",
       "TotalBsmtSF      0.047513    -0.012403     0.237872    -0.267175     0.063943   \n",
       "WoodDeckSF      -0.046938    -0.005188     0.174279    -0.151500     0.036906   \n",
       "YearBuilt        0.246102    -0.020120     0.303288    -0.437537     0.102993   \n",
       "YearRemodAdd     0.223435    -0.042722     0.099522    -0.208437     0.095309   \n",
       "YrSold           0.048108     0.046622    -0.047955     0.016612    -0.011372   \n",
       "\n",
       "              LotShape_IR2  LotShape_IR3  LotShape_Reg  LandContour_HLS  \\\n",
       "MSZoning_FV      -0.015825     -0.014854     -0.021947        -0.051891   \n",
       "MSZoning_RH       0.095559     -0.005338     -0.006952        -0.018649   \n",
       "MSZoning_RL       0.044246     -0.015126     -0.225090         0.033044   \n",
       "MSZoning_RM      -0.057868      0.028932      0.253700         0.003357   \n",
       "Street_Pave       0.010074      0.004129     -0.025863         0.014426   \n",
       "...                    ...           ...           ...              ...   \n",
       "TotalBsmtSF       0.042984      0.027841     -0.224800         0.128807   \n",
       "WoodDeckSF        0.027882     -0.007888     -0.179666         0.045474   \n",
       "YearBuilt         0.105051      0.013697     -0.341139         0.082019   \n",
       "YearRemodAdd      0.093263      0.038546     -0.236151         0.074637   \n",
       "YrSold           -0.047983      0.003142      0.027540        -0.029276   \n",
       "\n",
       "              LandContour_Low  ...  OverallQual  PoolArea  SalePrice  \\\n",
       "MSZoning_FV         -0.029893  ...     0.200440 -0.013228        NaN   \n",
       "MSZoning_RH         -0.010743  ...    -0.033478 -0.004754        NaN   \n",
       "MSZoning_RL          0.045957  ...     0.137428  0.031605        NaN   \n",
       "MSZoning_RM         -0.028695  ...    -0.225888 -0.025519        NaN   \n",
       "Street_Pave          0.008310  ...     0.085549  0.003677        NaN   \n",
       "...                       ...  ...          ...       ...        ...   \n",
       "TotalBsmtSF          0.020029  ...     0.560038  0.003152        NaN   \n",
       "WoodDeckSF           0.151687  ...     0.270790  0.123409        NaN   \n",
       "YearBuilt           -0.016600  ...     0.621910 -0.001060        NaN   \n",
       "YearRemodAdd        -0.049210  ...     0.591267 -0.034862        NaN   \n",
       "YrSold              -0.001958  ...    -0.012291 -0.045185        NaN   \n",
       "\n",
       "              ScreenPorch  TotRmsAbvGrd  TotalBsmtSF  WoodDeckSF  YearBuilt  \\\n",
       "MSZoning_FV     -0.028635     -0.056958     0.047513   -0.046938   0.246102   \n",
       "MSZoning_RH     -0.007435     -0.026722    -0.012403   -0.005188  -0.020120   \n",
       "MSZoning_RL      0.064908      0.124929     0.237872    0.174279   0.303288   \n",
       "MSZoning_RM     -0.046973     -0.090665    -0.267175   -0.151500  -0.437537   \n",
       "Street_Pave      0.019377      0.059012     0.063943    0.036906   0.102993   \n",
       "...                   ...           ...          ...         ...        ...   \n",
       "TotalBsmtSF      0.066967      0.278310     1.000000    0.227215   0.425418   \n",
       "WoodDeckSF      -0.030682      0.146832     0.227215    1.000000   0.233889   \n",
       "YearBuilt       -0.031984      0.134839     0.425418    0.233889   1.000000   \n",
       "YearRemodAdd    -0.053761      0.203619     0.304391    0.230724   0.631696   \n",
       "YrSold          -0.023439     -0.031627    -0.007833   -0.022818  -0.011006   \n",
       "\n",
       "              YearRemodAdd    YrSold  \n",
       "MSZoning_FV       0.223435  0.048108  \n",
       "MSZoning_RH      -0.042722  0.046622  \n",
       "MSZoning_RL       0.099522 -0.047955  \n",
       "MSZoning_RM      -0.208437  0.016612  \n",
       "Street_Pave       0.095309 -0.011372  \n",
       "...                    ...       ...  \n",
       "TotalBsmtSF       0.304391 -0.007833  \n",
       "WoodDeckSF        0.230724 -0.022818  \n",
       "YearBuilt         0.631696 -0.011006  \n",
       "YearRemodAdd      1.000000  0.029715  \n",
       "YrSold            0.029715  1.000000  \n",
       "\n",
       "[237 rows x 237 columns]"
      ]
     },
     "execution_count": 38,
     "metadata": {},
     "output_type": "execute_result"
    }
   ],
   "source": [
    "Train_data.corr()"
   ]
  },
  {
   "cell_type": "code",
   "execution_count": 39,
   "metadata": {},
   "outputs": [],
   "source": [
    "Test_data.SalePrice=np.log1p(Test_data.SalePrice)"
   ]
  },
  {
   "cell_type": "code",
   "execution_count": 40,
   "metadata": {},
   "outputs": [],
   "source": [
    "Test_data.GrLivArea=np.log1p(Test_data.GrLivArea)"
   ]
  },
  {
   "cell_type": "code",
   "execution_count": 41,
   "metadata": {},
   "outputs": [],
   "source": [
    "Train_data.GrLivArea=np.log1p(Train_data.GrLivArea)"
   ]
  },
  {
   "cell_type": "code",
   "execution_count": null,
   "metadata": {},
   "outputs": [],
   "source": []
  },
  {
   "cell_type": "code",
   "execution_count": null,
   "metadata": {},
   "outputs": [],
   "source": []
  },
  {
   "cell_type": "code",
   "execution_count": 42,
   "metadata": {},
   "outputs": [],
   "source": [
    "from sklearn.linear_model import LinearRegression"
   ]
  },
  {
   "cell_type": "code",
   "execution_count": 43,
   "metadata": {},
   "outputs": [
    {
     "data": {
      "text/plain": [
       "LinearRegression(copy_X=True, fit_intercept=True, n_jobs=None, normalize=False)"
      ]
     },
     "execution_count": 43,
     "metadata": {},
     "output_type": "execute_result"
    }
   ],
   "source": [
    "model=LinearRegression()\n",
    "model.fit(Test_data.drop(columns=['SalePrice']),Test_data.SalePrice)"
   ]
  },
  {
   "cell_type": "code",
   "execution_count": 44,
   "metadata": {},
   "outputs": [],
   "source": [
    "Predictor=Train_data.drop(columns=['SalePrice'])"
   ]
  },
  {
   "cell_type": "code",
   "execution_count": 45,
   "metadata": {},
   "outputs": [],
   "source": [
    "result=model.predict(Predictor)"
   ]
  },
  {
   "cell_type": "code",
   "execution_count": 46,
   "metadata": {},
   "outputs": [],
   "source": [
    "df1=pd.DataFrame(result)"
   ]
  },
  {
   "cell_type": "code",
   "execution_count": 47,
   "metadata": {},
   "outputs": [],
   "source": [
    "df1=np.expm1(df1)"
   ]
  },
  {
   "cell_type": "code",
   "execution_count": 48,
   "metadata": {},
   "outputs": [],
   "source": [
    "final=pd.read_csv('F:/ML/Projects/House Prices Advanced Regression Techniques/test.csv')"
   ]
  },
  {
   "cell_type": "code",
   "execution_count": 49,
   "metadata": {},
   "outputs": [],
   "source": [
    "sample_submission=pd.concat([final.Id,df1],axis=1)"
   ]
  },
  {
   "cell_type": "code",
   "execution_count": 50,
   "metadata": {},
   "outputs": [],
   "source": [
    "sample_submission.to_csv('F:/ML/Projects/House Prices Advanced Regression Techniques/sample_submission.csv',index=False)"
   ]
  },
  {
   "cell_type": "code",
   "execution_count": null,
   "metadata": {},
   "outputs": [],
   "source": []
  }
 ],
 "metadata": {
  "kernelspec": {
   "display_name": "Python 3",
   "language": "python",
   "name": "python3"
  },
  "language_info": {
   "codemirror_mode": {
    "name": "ipython",
    "version": 3
   },
   "file_extension": ".py",
   "mimetype": "text/x-python",
   "name": "python",
   "nbconvert_exporter": "python",
   "pygments_lexer": "ipython3",
   "version": "3.7.4"
  }
 },
 "nbformat": 4,
 "nbformat_minor": 2
}
