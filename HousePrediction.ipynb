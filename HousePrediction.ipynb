{
 "cells": [
  {
   "cell_type": "code",
   "execution_count": 3,
   "metadata": {},
   "outputs": [],
   "source": [
    "import pandas as pd\n",
    "import numpy as np\n",
    "import matplotlib.pyplot as plt\n",
    "\n",
    "import warnings\n",
    "warnings.filterwarnings('ignore')\n",
    "\n",
    "train=pd.read_csv('F:/ML/Projects/House Prices Advanced Regression Techniques/train.csv')\n",
    "test=pd.read_csv('F:/ML/Projects/House Prices Advanced Regression Techniques/test.csv')\n",
    "\n"
   ]
  },
  {
   "cell_type": "code",
   "execution_count": 4,
   "metadata": {},
   "outputs": [],
   "source": [
    "train_Id=train.Id\n",
    "test_Id=test.Id\n",
    "\n",
    "train.drop(columns='Id',inplace=True)\n",
    "test.drop(columns='Id',inplace=True)"
   ]
  },
  {
   "cell_type": "code",
   "execution_count": 5,
   "metadata": {},
   "outputs": [],
   "source": [
    "train_cat= train.select_dtypes(include='object')"
   ]
  },
  {
   "cell_type": "code",
   "execution_count": 6,
   "metadata": {},
   "outputs": [],
   "source": [
    "train_num=train.select_dtypes(exclude='object')"
   ]
  },
  {
   "cell_type": "code",
   "execution_count": 7,
   "metadata": {},
   "outputs": [],
   "source": [
    "test_cat= test.select_dtypes(include='object')"
   ]
  },
  {
   "cell_type": "code",
   "execution_count": 8,
   "metadata": {},
   "outputs": [],
   "source": [
    "test_num=test.select_dtypes(exclude='object')"
   ]
  },
  {
   "cell_type": "code",
   "execution_count": 9,
   "metadata": {},
   "outputs": [],
   "source": [
    "train_cat.drop(columns=['PoolQC','MiscFeature','Alley','Fence'],inplace=True)"
   ]
  },
  {
   "cell_type": "code",
   "execution_count": 10,
   "metadata": {},
   "outputs": [],
   "source": [
    "test_cat.drop(columns=['PoolQC','MiscFeature','Alley','Fence'],inplace=True)"
   ]
  },
  {
   "cell_type": "code",
   "execution_count": 11,
   "metadata": {},
   "outputs": [],
   "source": [
    "train_num.LotFrontage.fillna(train_num.LotFrontage.median(),inplace=True)\n",
    "train_num.GarageYrBlt.fillna(train_num.GarageYrBlt.median(),inplace=True)\n",
    "train_num.MasVnrArea.fillna(train_num.MasVnrArea.median(),inplace=True)"
   ]
  },
  {
   "cell_type": "code",
   "execution_count": 12,
   "metadata": {},
   "outputs": [],
   "source": [
    "test_num.LotFrontage.fillna(test_num.LotFrontage.median(),inplace=True)\n",
    "test_num.GarageYrBlt.fillna(test_num.GarageYrBlt.median(),inplace=True)\n",
    "test_num.MasVnrArea.fillna(test_num.MasVnrArea.median(),inplace=True)\n",
    "test_num.BsmtHalfBath.fillna(test_num.BsmtHalfBath.median(),inplace=True)\n",
    "test_num.BsmtFullBath.fillna(test_num.BsmtFullBath.median(),inplace=True)\n",
    "test_num.GarageArea.fillna(test_num.GarageArea.median(),inplace=True)\n",
    "test_num.BsmtFinSF1.fillna(test_num.BsmtFinSF1.median(),inplace=True)\n",
    "test_num.BsmtFinSF2.fillna(test_num.BsmtFinSF2.median(),inplace=True)\n",
    "test_num.BsmtUnfSF.fillna(test_num.BsmtUnfSF.median(),inplace=True)\n",
    "test_num.TotalBsmtSF.fillna(test_num.TotalBsmtSF.median(),inplace=True)\n",
    "test_num.GarageCars.fillna(test_num.GarageCars.median(),inplace=True)"
   ]
  },
  {
   "cell_type": "code",
   "execution_count": 13,
   "metadata": {},
   "outputs": [],
   "source": [
    "train_cat.FireplaceQu.fillna('Gd',inplace=True)\n",
    "train_cat.GarageCond.fillna('TA',inplace=True)\n",
    "train_cat.GarageQual.fillna('TA',inplace=True)\n",
    "train_cat.GarageFinish.fillna('Unf',inplace=True)\n",
    "train_cat.GarageType.fillna('Attchd',inplace=True)\n",
    "train_cat.BsmtExposure.fillna('No',inplace=True)\n",
    "train_cat.BsmtFinType2.fillna('Unf',inplace=True)\n",
    "train_cat.BsmtQual.fillna('TA',inplace=True)\n",
    "train_cat.BsmtCond.fillna('TA',inplace=True)\n",
    "train_cat.BsmtFinType1.fillna('Unf',inplace=True)\n",
    "train_cat.MasVnrType.fillna('None',inplace=True)\n",
    "train_cat.Electrical.fillna('SBrkr',inplace=True)"
   ]
  },
  {
   "cell_type": "code",
   "execution_count": 14,
   "metadata": {},
   "outputs": [],
   "source": [
    "test_cat.FireplaceQu.fillna('Gd',inplace=True)\n",
    "test_cat.GarageCond.fillna('TA',inplace=True)\n",
    "test_cat.GarageQual.fillna('TA',inplace=True)\n",
    "test_cat.GarageFinish.fillna('Unf',inplace=True)\n",
    "test_cat.GarageType.fillna('Attchd',inplace=True)\n",
    "test_cat.BsmtExposure.fillna('No',inplace=True)\n",
    "test_cat.BsmtFinType2.fillna('Unf',inplace=True)\n",
    "test_cat.BsmtQual.fillna('TA',inplace=True)\n",
    "test_cat.BsmtCond.fillna('TA',inplace=True)\n",
    "test_cat.BsmtFinType1.fillna('Unf',inplace=True)\n",
    "test_cat.MasVnrType.fillna('None',inplace=True)\n",
    "test_cat.Electrical.fillna('SBrkr',inplace=True)\n",
    "test_cat.MSZoning.fillna('RL',inplace=True)\n",
    "test_cat.Functional.fillna('Typ',inplace=True)\n",
    "test_cat.Utilities.fillna('AllPub',inplace=True)\n",
    "test_cat.Exterior1st.fillna('VinylSd',inplace=True)\n",
    "test_cat.Exterior2nd.fillna('VinylSd',inplace=True)\n",
    "test_cat.KitchenQual.fillna('TA',inplace=True)\n",
    "test_cat.SaleType.fillna('WD',inplace=True)\n"
   ]
  },
  {
   "cell_type": "code",
   "execution_count": 15,
   "metadata": {},
   "outputs": [
    {
     "data": {
      "text/plain": [
       "SalePrice        0\n",
       "BsmtHalfBath     0\n",
       "GrLivArea        0\n",
       "LowQualFinSF     0\n",
       "2ndFlrSF         0\n",
       "1stFlrSF         0\n",
       "TotalBsmtSF      0\n",
       "BsmtUnfSF        0\n",
       "BsmtFinSF2       0\n",
       "BsmtFinSF1       0\n",
       "MasVnrArea       0\n",
       "YearRemodAdd     0\n",
       "YearBuilt        0\n",
       "OverallCond      0\n",
       "OverallQual      0\n",
       "LotArea          0\n",
       "LotFrontage      0\n",
       "BsmtFullBath     0\n",
       "FullBath         0\n",
       "YrSold           0\n",
       "HalfBath         0\n",
       "MoSold           0\n",
       "MiscVal          0\n",
       "PoolArea         0\n",
       "ScreenPorch      0\n",
       "3SsnPorch        0\n",
       "EnclosedPorch    0\n",
       "OpenPorchSF      0\n",
       "WoodDeckSF       0\n",
       "GarageArea       0\n",
       "GarageCars       0\n",
       "GarageYrBlt      0\n",
       "Fireplaces       0\n",
       "TotRmsAbvGrd     0\n",
       "KitchenAbvGr     0\n",
       "BedroomAbvGr     0\n",
       "MSSubClass       0\n",
       "dtype: int64"
      ]
     },
     "execution_count": 15,
     "metadata": {},
     "output_type": "execute_result"
    }
   ],
   "source": [
    "train_num.isnull().sum().sort_values(ascending=False)"
   ]
  },
  {
   "cell_type": "code",
   "execution_count": 16,
   "metadata": {},
   "outputs": [],
   "source": [
    "combined_cat=pd.concat([train_cat,test_cat],axis=0)"
   ]
  },
  {
   "cell_type": "code",
   "execution_count": 17,
   "metadata": {},
   "outputs": [
    {
     "data": {
      "text/plain": [
       "(2919, 39)"
      ]
     },
     "execution_count": 17,
     "metadata": {},
     "output_type": "execute_result"
    }
   ],
   "source": [
    "combined_cat.shape"
   ]
  },
  {
   "cell_type": "code",
   "execution_count": 18,
   "metadata": {},
   "outputs": [],
   "source": [
    "from sklearn.preprocessing import StandardScaler, LabelEncoder"
   ]
  },
  {
   "cell_type": "code",
   "execution_count": 19,
   "metadata": {},
   "outputs": [
    {
     "data": {
      "text/plain": [
       "Index(['MSZoning', 'Street', 'LotShape', 'LandContour', 'Utilities',\n",
       "       'LotConfig', 'LandSlope', 'Neighborhood', 'Condition1', 'Condition2',\n",
       "       'BldgType', 'HouseStyle', 'RoofStyle', 'RoofMatl', 'Exterior1st',\n",
       "       'Exterior2nd', 'MasVnrType', 'ExterQual', 'ExterCond', 'Foundation',\n",
       "       'BsmtQual', 'BsmtCond', 'BsmtExposure', 'BsmtFinType1', 'BsmtFinType2',\n",
       "       'Heating', 'HeatingQC', 'CentralAir', 'Electrical', 'KitchenQual',\n",
       "       'Functional', 'FireplaceQu', 'GarageType', 'GarageFinish', 'GarageQual',\n",
       "       'GarageCond', 'PavedDrive', 'SaleType', 'SaleCondition'],\n",
       "      dtype='object')"
      ]
     },
     "execution_count": 19,
     "metadata": {},
     "output_type": "execute_result"
    }
   ],
   "source": [
    "combined_cat.columns"
   ]
  },
  {
   "cell_type": "code",
   "execution_count": 24,
   "metadata": {},
   "outputs": [],
   "source": [
    "combined_cat.drop(columns=['Utilities'], inplace=True)"
   ]
  },
  {
   "cell_type": "code",
   "execution_count": 26,
   "metadata": {},
   "outputs": [],
   "source": [
    "labelencoder=LabelEncoder()\n",
    "\n",
    "combined_cat['MSZoning']      = labelencoder.fit_transform(combined_cat['MSZoning'].astype(str))\n",
    "combined_cat['Exterior1st']   = labelencoder.fit_transform(combined_cat['Exterior1st'].astype(str))\n",
    "combined_cat['Exterior2nd']   = labelencoder.fit_transform(combined_cat['Exterior2nd'].astype(str))\n",
    "combined_cat['KitchenQual']   = labelencoder.fit_transform(combined_cat['KitchenQual'].astype(str))\n",
    "combined_cat['Functional']    = labelencoder.fit_transform(combined_cat['Functional'].astype(str))\n",
    "combined_cat['SaleType']      = labelencoder.fit_transform(combined_cat['SaleType'].astype(str))\n",
    "combined_cat['Street']        = labelencoder.fit_transform(combined_cat['Street'])   \n",
    "combined_cat['LotShape']      = labelencoder.fit_transform(combined_cat['LotShape'])   \n",
    "combined_cat['LandContour']   = labelencoder.fit_transform(combined_cat['LandContour'])   \n",
    "combined_cat['LotConfig']     = labelencoder.fit_transform(combined_cat['LotConfig'])   \n",
    "combined_cat['LandSlope']     = labelencoder.fit_transform(combined_cat['LandSlope'])   \n",
    "combined_cat['Neighborhood']  = labelencoder.fit_transform(combined_cat['Neighborhood'])   \n",
    "combined_cat['Condition1']    = labelencoder.fit_transform(combined_cat['Condition1'])   \n",
    "combined_cat['Condition2']    = labelencoder.fit_transform(combined_cat['Condition2'])   \n",
    "combined_cat['BldgType']      = labelencoder.fit_transform(combined_cat['BldgType'])   \n",
    "combined_cat['HouseStyle']    = labelencoder.fit_transform(combined_cat['HouseStyle'])   \n",
    "combined_cat['RoofStyle']     = labelencoder.fit_transform(combined_cat['RoofStyle'])   \n",
    "combined_cat['RoofMatl']      = labelencoder.fit_transform(combined_cat['RoofMatl'])    \n",
    "combined_cat['MasVnrType']    = labelencoder.fit_transform(combined_cat['MasVnrType'])   \n",
    "combined_cat['ExterQual']     = labelencoder.fit_transform(combined_cat['ExterQual'])  \n",
    "combined_cat['ExterCond']     = labelencoder.fit_transform(combined_cat['ExterCond'])   \n",
    "combined_cat['Foundation']    = labelencoder.fit_transform(combined_cat['Foundation'])   \n",
    "combined_cat['BsmtQual']      = labelencoder.fit_transform(combined_cat['BsmtQual'])   \n",
    "combined_cat['BsmtCond']      = labelencoder.fit_transform(combined_cat['BsmtCond'])   \n",
    "combined_cat['BsmtExposure']  = labelencoder.fit_transform(combined_cat['BsmtExposure'])   \n",
    "combined_cat['BsmtFinType1']  = labelencoder.fit_transform(combined_cat['BsmtFinType1'])   \n",
    "combined_cat['BsmtFinType2']  = labelencoder.fit_transform(combined_cat['BsmtFinType2'])   \n",
    "combined_cat['Heating']       = labelencoder.fit_transform(combined_cat['Heating'])   \n",
    "combined_cat['HeatingQC']     = labelencoder.fit_transform(combined_cat['HeatingQC'])   \n",
    "combined_cat['CentralAir']    = labelencoder.fit_transform(combined_cat['CentralAir'])   \n",
    "combined_cat['Electrical']    = labelencoder.fit_transform(combined_cat['Electrical'])    \n",
    "combined_cat['GarageType']    = labelencoder.fit_transform(combined_cat['GarageType'])  \n",
    "combined_cat['GarageFinish']  = labelencoder.fit_transform(combined_cat['GarageFinish'])   \n",
    "combined_cat['GarageQual']    = labelencoder.fit_transform(combined_cat['GarageQual'])  \n",
    "combined_cat['GarageCond']    = labelencoder.fit_transform(combined_cat['GarageCond'])   \n",
    "combined_cat['PavedDrive']    = labelencoder.fit_transform(combined_cat['PavedDrive'])  \n",
    "combined_cat['SaleCondition'] = labelencoder.fit_transform(combined_cat['SaleCondition'])\n",
    "combined_cat['FireplaceQu'] = labelencoder.fit_transform(combined_cat['FireplaceQu'])"
   ]
  },
  {
   "cell_type": "code",
   "execution_count": 27,
   "metadata": {},
   "outputs": [],
   "source": [
    "combined_num=pd.concat([train_num,test_num],axis=0)"
   ]
  },
  {
   "cell_type": "code",
   "execution_count": 28,
   "metadata": {},
   "outputs": [
    {
     "data": {
      "text/plain": [
       "(2919, 37)"
      ]
     },
     "execution_count": 28,
     "metadata": {},
     "output_type": "execute_result"
    }
   ],
   "source": [
    "combined_num.shape"
   ]
  },
  {
   "cell_type": "code",
   "execution_count": 29,
   "metadata": {},
   "outputs": [],
   "source": [
    "All_combined=pd.concat([combined_cat,combined_num],axis=1)"
   ]
  },
  {
   "cell_type": "code",
   "execution_count": 30,
   "metadata": {},
   "outputs": [
    {
     "data": {
      "text/plain": [
       "(2919, 75)"
      ]
     },
     "execution_count": 30,
     "metadata": {},
     "output_type": "execute_result"
    }
   ],
   "source": [
    "All_combined.shape"
   ]
  },
  {
   "cell_type": "code",
   "execution_count": 31,
   "metadata": {},
   "outputs": [],
   "source": [
    "All_combined.drop(columns=['GarageYrBlt','TotRmsAbvGrd','TotalBsmtSF'],inplace=True)"
   ]
  },
  {
   "cell_type": "code",
   "execution_count": 32,
   "metadata": {},
   "outputs": [
    {
     "data": {
      "text/plain": [
       "(2919, 72)"
      ]
     },
     "execution_count": 32,
     "metadata": {},
     "output_type": "execute_result"
    }
   ],
   "source": [
    "All_combined.shape"
   ]
  },
  {
   "cell_type": "code",
   "execution_count": 33,
   "metadata": {},
   "outputs": [
    {
     "data": {
      "text/plain": [
       "1459"
      ]
     },
     "execution_count": 33,
     "metadata": {},
     "output_type": "execute_result"
    }
   ],
   "source": [
    "All_combined.SalePrice.isnull().sum()"
   ]
  },
  {
   "cell_type": "code",
   "execution_count": 34,
   "metadata": {},
   "outputs": [
    {
     "data": {
      "text/plain": [
       "SalePrice       1459\n",
       "YrSold             0\n",
       "HeatingQC          0\n",
       "BsmtQual           0\n",
       "BsmtCond           0\n",
       "BsmtExposure       0\n",
       "BsmtFinType1       0\n",
       "BsmtFinType2       0\n",
       "Heating            0\n",
       "CentralAir         0\n",
       "ExterCond          0\n",
       "Electrical         0\n",
       "KitchenQual        0\n",
       "Functional         0\n",
       "FireplaceQu        0\n",
       "GarageType         0\n",
       "GarageFinish       0\n",
       "Foundation         0\n",
       "ExterQual          0\n",
       "GarageCond         0\n",
       "Condition1         0\n",
       "Street             0\n",
       "LotShape           0\n",
       "LandContour        0\n",
       "LotConfig          0\n",
       "LandSlope          0\n",
       "Neighborhood       0\n",
       "Condition2         0\n",
       "MasVnrType         0\n",
       "BldgType           0\n",
       "HouseStyle         0\n",
       "RoofStyle          0\n",
       "RoofMatl           0\n",
       "Exterior1st        0\n",
       "Exterior2nd        0\n",
       "GarageQual         0\n",
       "PavedDrive         0\n",
       "YearRemodAdd       0\n",
       "MoSold             0\n",
       "LotArea            0\n",
       "LotFrontage        0\n",
       "LowQualFinSF       0\n",
       "MSSubClass         0\n",
       "MasVnrArea         0\n",
       "MiscVal            0\n",
       "OpenPorchSF        0\n",
       "HalfBath           0\n",
       "OverallCond        0\n",
       "OverallQual        0\n",
       "PoolArea           0\n",
       "dtype: int64"
      ]
     },
     "execution_count": 34,
     "metadata": {},
     "output_type": "execute_result"
    }
   ],
   "source": [
    "All_combined.isnull().sum().sort_values(ascending=False).head(50)"
   ]
  },
  {
   "cell_type": "code",
   "execution_count": 35,
   "metadata": {},
   "outputs": [],
   "source": [
    "Train_data=All_combined[All_combined.SalePrice.isnull()]"
   ]
  },
  {
   "cell_type": "code",
   "execution_count": 36,
   "metadata": {},
   "outputs": [],
   "source": [
    "Train_data.drop(Train_data[(Train_data.SalePrice<300000) & (Train_data.GrLivArea>4000)].index,inplace=True)"
   ]
  },
  {
   "cell_type": "code",
   "execution_count": 37,
   "metadata": {},
   "outputs": [
    {
     "data": {
      "text/plain": [
       "(1459, 72)"
      ]
     },
     "execution_count": 37,
     "metadata": {},
     "output_type": "execute_result"
    }
   ],
   "source": [
    "Train_data.shape"
   ]
  },
  {
   "cell_type": "code",
   "execution_count": 38,
   "metadata": {},
   "outputs": [
    {
     "data": {
      "text/html": [
       "<div>\n",
       "<style scoped>\n",
       "    .dataframe tbody tr th:only-of-type {\n",
       "        vertical-align: middle;\n",
       "    }\n",
       "\n",
       "    .dataframe tbody tr th {\n",
       "        vertical-align: top;\n",
       "    }\n",
       "\n",
       "    .dataframe thead th {\n",
       "        text-align: right;\n",
       "    }\n",
       "</style>\n",
       "<table border=\"1\" class=\"dataframe\">\n",
       "  <thead>\n",
       "    <tr style=\"text-align: right;\">\n",
       "      <th></th>\n",
       "      <th>MSZoning</th>\n",
       "      <th>Street</th>\n",
       "      <th>LotShape</th>\n",
       "      <th>LandContour</th>\n",
       "      <th>LotConfig</th>\n",
       "      <th>LandSlope</th>\n",
       "      <th>Neighborhood</th>\n",
       "      <th>Condition1</th>\n",
       "      <th>Condition2</th>\n",
       "      <th>BldgType</th>\n",
       "      <th>...</th>\n",
       "      <th>OpenPorchSF</th>\n",
       "      <th>OverallCond</th>\n",
       "      <th>OverallQual</th>\n",
       "      <th>PoolArea</th>\n",
       "      <th>SalePrice</th>\n",
       "      <th>ScreenPorch</th>\n",
       "      <th>WoodDeckSF</th>\n",
       "      <th>YearBuilt</th>\n",
       "      <th>YearRemodAdd</th>\n",
       "      <th>YrSold</th>\n",
       "    </tr>\n",
       "  </thead>\n",
       "  <tbody>\n",
       "    <tr>\n",
       "      <td>0</td>\n",
       "      <td>2</td>\n",
       "      <td>1</td>\n",
       "      <td>3</td>\n",
       "      <td>3</td>\n",
       "      <td>4</td>\n",
       "      <td>0</td>\n",
       "      <td>12</td>\n",
       "      <td>1</td>\n",
       "      <td>2</td>\n",
       "      <td>0</td>\n",
       "      <td>...</td>\n",
       "      <td>0</td>\n",
       "      <td>6</td>\n",
       "      <td>5</td>\n",
       "      <td>0</td>\n",
       "      <td>NaN</td>\n",
       "      <td>120</td>\n",
       "      <td>140</td>\n",
       "      <td>1961</td>\n",
       "      <td>1961</td>\n",
       "      <td>2010</td>\n",
       "    </tr>\n",
       "    <tr>\n",
       "      <td>1</td>\n",
       "      <td>3</td>\n",
       "      <td>1</td>\n",
       "      <td>0</td>\n",
       "      <td>3</td>\n",
       "      <td>0</td>\n",
       "      <td>0</td>\n",
       "      <td>12</td>\n",
       "      <td>2</td>\n",
       "      <td>2</td>\n",
       "      <td>0</td>\n",
       "      <td>...</td>\n",
       "      <td>36</td>\n",
       "      <td>6</td>\n",
       "      <td>6</td>\n",
       "      <td>0</td>\n",
       "      <td>NaN</td>\n",
       "      <td>0</td>\n",
       "      <td>393</td>\n",
       "      <td>1958</td>\n",
       "      <td>1958</td>\n",
       "      <td>2010</td>\n",
       "    </tr>\n",
       "    <tr>\n",
       "      <td>2</td>\n",
       "      <td>3</td>\n",
       "      <td>1</td>\n",
       "      <td>0</td>\n",
       "      <td>3</td>\n",
       "      <td>4</td>\n",
       "      <td>0</td>\n",
       "      <td>8</td>\n",
       "      <td>2</td>\n",
       "      <td>2</td>\n",
       "      <td>0</td>\n",
       "      <td>...</td>\n",
       "      <td>34</td>\n",
       "      <td>5</td>\n",
       "      <td>5</td>\n",
       "      <td>0</td>\n",
       "      <td>NaN</td>\n",
       "      <td>0</td>\n",
       "      <td>212</td>\n",
       "      <td>1997</td>\n",
       "      <td>1998</td>\n",
       "      <td>2010</td>\n",
       "    </tr>\n",
       "    <tr>\n",
       "      <td>3</td>\n",
       "      <td>3</td>\n",
       "      <td>1</td>\n",
       "      <td>0</td>\n",
       "      <td>3</td>\n",
       "      <td>4</td>\n",
       "      <td>0</td>\n",
       "      <td>8</td>\n",
       "      <td>2</td>\n",
       "      <td>2</td>\n",
       "      <td>0</td>\n",
       "      <td>...</td>\n",
       "      <td>36</td>\n",
       "      <td>6</td>\n",
       "      <td>6</td>\n",
       "      <td>0</td>\n",
       "      <td>NaN</td>\n",
       "      <td>0</td>\n",
       "      <td>360</td>\n",
       "      <td>1998</td>\n",
       "      <td>1998</td>\n",
       "      <td>2010</td>\n",
       "    </tr>\n",
       "    <tr>\n",
       "      <td>4</td>\n",
       "      <td>3</td>\n",
       "      <td>1</td>\n",
       "      <td>0</td>\n",
       "      <td>1</td>\n",
       "      <td>4</td>\n",
       "      <td>0</td>\n",
       "      <td>22</td>\n",
       "      <td>2</td>\n",
       "      <td>2</td>\n",
       "      <td>4</td>\n",
       "      <td>...</td>\n",
       "      <td>82</td>\n",
       "      <td>5</td>\n",
       "      <td>8</td>\n",
       "      <td>0</td>\n",
       "      <td>NaN</td>\n",
       "      <td>144</td>\n",
       "      <td>0</td>\n",
       "      <td>1992</td>\n",
       "      <td>1992</td>\n",
       "      <td>2010</td>\n",
       "    </tr>\n",
       "  </tbody>\n",
       "</table>\n",
       "<p>5 rows × 72 columns</p>\n",
       "</div>"
      ],
      "text/plain": [
       "   MSZoning  Street  LotShape  LandContour  LotConfig  LandSlope  \\\n",
       "0         2       1         3            3          4          0   \n",
       "1         3       1         0            3          0          0   \n",
       "2         3       1         0            3          4          0   \n",
       "3         3       1         0            3          4          0   \n",
       "4         3       1         0            1          4          0   \n",
       "\n",
       "   Neighborhood  Condition1  Condition2  BldgType  ...  OpenPorchSF  \\\n",
       "0            12           1           2         0  ...            0   \n",
       "1            12           2           2         0  ...           36   \n",
       "2             8           2           2         0  ...           34   \n",
       "3             8           2           2         0  ...           36   \n",
       "4            22           2           2         4  ...           82   \n",
       "\n",
       "   OverallCond  OverallQual  PoolArea  SalePrice  ScreenPorch  WoodDeckSF  \\\n",
       "0            6            5         0        NaN          120         140   \n",
       "1            6            6         0        NaN            0         393   \n",
       "2            5            5         0        NaN            0         212   \n",
       "3            6            6         0        NaN            0         360   \n",
       "4            5            8         0        NaN          144           0   \n",
       "\n",
       "   YearBuilt  YearRemodAdd  YrSold  \n",
       "0       1961          1961    2010  \n",
       "1       1958          1958    2010  \n",
       "2       1997          1998    2010  \n",
       "3       1998          1998    2010  \n",
       "4       1992          1992    2010  \n",
       "\n",
       "[5 rows x 72 columns]"
      ]
     },
     "execution_count": 38,
     "metadata": {},
     "output_type": "execute_result"
    }
   ],
   "source": [
    "Train_data.head()"
   ]
  },
  {
   "cell_type": "code",
   "execution_count": 39,
   "metadata": {},
   "outputs": [
    {
     "data": {
      "text/plain": [
       "SalePrice        1459\n",
       "YrSold              0\n",
       "HeatingQC           0\n",
       "BsmtQual            0\n",
       "BsmtCond            0\n",
       "                 ... \n",
       "EnclosedPorch       0\n",
       "Fireplaces          0\n",
       "FullBath            0\n",
       "GarageArea          0\n",
       "MSZoning            0\n",
       "Length: 72, dtype: int64"
      ]
     },
     "execution_count": 39,
     "metadata": {},
     "output_type": "execute_result"
    }
   ],
   "source": [
    "Train_data.isnull().sum().sort_values(ascending=False)"
   ]
  },
  {
   "cell_type": "code",
   "execution_count": 40,
   "metadata": {},
   "outputs": [
    {
     "data": {
      "text/plain": [
       "1459"
      ]
     },
     "execution_count": 40,
     "metadata": {},
     "output_type": "execute_result"
    }
   ],
   "source": [
    "Train_data.SalePrice.isnull().sum()"
   ]
  },
  {
   "cell_type": "code",
   "execution_count": 41,
   "metadata": {},
   "outputs": [],
   "source": [
    "Train_data.to_csv('F:/ML/Projects/House Prices Advanced Regression Techniques/Train_data.csv',index=False)"
   ]
  },
  {
   "cell_type": "code",
   "execution_count": 42,
   "metadata": {},
   "outputs": [],
   "source": [
    "Test_data=All_combined[All_combined.SalePrice.notnull()]"
   ]
  },
  {
   "cell_type": "code",
   "execution_count": 43,
   "metadata": {},
   "outputs": [
    {
     "data": {
      "text/plain": [
       "(1460, 72)"
      ]
     },
     "execution_count": 43,
     "metadata": {},
     "output_type": "execute_result"
    }
   ],
   "source": [
    "Test_data.shape"
   ]
  },
  {
   "cell_type": "code",
   "execution_count": 44,
   "metadata": {},
   "outputs": [],
   "source": [
    "Test_data.drop(Test_data[(Test_data.SalePrice<300000) & (Test_data.GrLivArea>4000)].index,inplace=True)"
   ]
  },
  {
   "cell_type": "code",
   "execution_count": 45,
   "metadata": {},
   "outputs": [
    {
     "data": {
      "text/plain": [
       "(1458, 72)"
      ]
     },
     "execution_count": 45,
     "metadata": {},
     "output_type": "execute_result"
    }
   ],
   "source": [
    "Test_data.shape"
   ]
  },
  {
   "cell_type": "code",
   "execution_count": 46,
   "metadata": {},
   "outputs": [],
   "source": [
    "Test_data.to_csv('F:/ML/Projects/House Prices Advanced Regression Techniques/Test_data.csv',index=False)"
   ]
  },
  {
   "cell_type": "code",
   "execution_count": 47,
   "metadata": {},
   "outputs": [
    {
     "data": {
      "text/plain": [
       "YrSold          0\n",
       "YearRemodAdd    0\n",
       "BsmtQual        0\n",
       "BsmtCond        0\n",
       "BsmtExposure    0\n",
       "               ..\n",
       "Fireplaces      0\n",
       "FullBath        0\n",
       "GarageArea      0\n",
       "GarageCars      0\n",
       "MSZoning        0\n",
       "Length: 72, dtype: int64"
      ]
     },
     "execution_count": 47,
     "metadata": {},
     "output_type": "execute_result"
    }
   ],
   "source": [
    "Test_data.isnull().sum().sort_values(ascending=False)"
   ]
  },
  {
   "cell_type": "code",
   "execution_count": 48,
   "metadata": {},
   "outputs": [
    {
     "data": {
      "text/plain": [
       "(1459, 72)"
      ]
     },
     "execution_count": 48,
     "metadata": {},
     "output_type": "execute_result"
    }
   ],
   "source": [
    "Train_data.shape"
   ]
  },
  {
   "cell_type": "code",
   "execution_count": 49,
   "metadata": {},
   "outputs": [
    {
     "data": {
      "text/html": [
       "<div>\n",
       "<style scoped>\n",
       "    .dataframe tbody tr th:only-of-type {\n",
       "        vertical-align: middle;\n",
       "    }\n",
       "\n",
       "    .dataframe tbody tr th {\n",
       "        vertical-align: top;\n",
       "    }\n",
       "\n",
       "    .dataframe thead th {\n",
       "        text-align: right;\n",
       "    }\n",
       "</style>\n",
       "<table border=\"1\" class=\"dataframe\">\n",
       "  <thead>\n",
       "    <tr style=\"text-align: right;\">\n",
       "      <th></th>\n",
       "      <th>MSZoning</th>\n",
       "      <th>Street</th>\n",
       "      <th>LotShape</th>\n",
       "      <th>LandContour</th>\n",
       "      <th>LotConfig</th>\n",
       "      <th>LandSlope</th>\n",
       "      <th>Neighborhood</th>\n",
       "      <th>Condition1</th>\n",
       "      <th>Condition2</th>\n",
       "      <th>BldgType</th>\n",
       "      <th>...</th>\n",
       "      <th>OpenPorchSF</th>\n",
       "      <th>OverallCond</th>\n",
       "      <th>OverallQual</th>\n",
       "      <th>PoolArea</th>\n",
       "      <th>SalePrice</th>\n",
       "      <th>ScreenPorch</th>\n",
       "      <th>WoodDeckSF</th>\n",
       "      <th>YearBuilt</th>\n",
       "      <th>YearRemodAdd</th>\n",
       "      <th>YrSold</th>\n",
       "    </tr>\n",
       "  </thead>\n",
       "  <tbody>\n",
       "    <tr>\n",
       "      <td>MSZoning</td>\n",
       "      <td>1.000000</td>\n",
       "      <td>0.127835</td>\n",
       "      <td>0.127847</td>\n",
       "      <td>-0.046166</td>\n",
       "      <td>0.046413</td>\n",
       "      <td>0.061010</td>\n",
       "      <td>-0.272622</td>\n",
       "      <td>-0.029552</td>\n",
       "      <td>-0.047838</td>\n",
       "      <td>-0.056300</td>\n",
       "      <td>...</td>\n",
       "      <td>-0.193811</td>\n",
       "      <td>0.178650</td>\n",
       "      <td>-0.180130</td>\n",
       "      <td>-0.002237</td>\n",
       "      <td>NaN</td>\n",
       "      <td>0.007325</td>\n",
       "      <td>-0.022380</td>\n",
       "      <td>-0.314849</td>\n",
       "      <td>-0.207396</td>\n",
       "      <td>-0.026208</td>\n",
       "    </tr>\n",
       "    <tr>\n",
       "      <td>Street</td>\n",
       "      <td>0.127835</td>\n",
       "      <td>1.000000</td>\n",
       "      <td>-0.024938</td>\n",
       "      <td>0.071177</td>\n",
       "      <td>-0.009761</td>\n",
       "      <td>0.013366</td>\n",
       "      <td>0.041305</td>\n",
       "      <td>-0.057285</td>\n",
       "      <td>-0.001844</td>\n",
       "      <td>0.027415</td>\n",
       "      <td>...</td>\n",
       "      <td>0.019890</td>\n",
       "      <td>-0.006514</td>\n",
       "      <td>0.085549</td>\n",
       "      <td>0.003677</td>\n",
       "      <td>NaN</td>\n",
       "      <td>0.019377</td>\n",
       "      <td>0.036906</td>\n",
       "      <td>0.102993</td>\n",
       "      <td>0.095309</td>\n",
       "      <td>-0.011372</td>\n",
       "    </tr>\n",
       "    <tr>\n",
       "      <td>LotShape</td>\n",
       "      <td>0.127847</td>\n",
       "      <td>-0.024938</td>\n",
       "      <td>1.000000</td>\n",
       "      <td>0.101612</td>\n",
       "      <td>0.158927</td>\n",
       "      <td>-0.073471</td>\n",
       "      <td>-0.059434</td>\n",
       "      <td>-0.110854</td>\n",
       "      <td>0.002429</td>\n",
       "      <td>0.031113</td>\n",
       "      <td>...</td>\n",
       "      <td>-0.098891</td>\n",
       "      <td>0.125375</td>\n",
       "      <td>-0.325026</td>\n",
       "      <td>-0.006675</td>\n",
       "      <td>NaN</td>\n",
       "      <td>-0.020865</td>\n",
       "      <td>-0.181127</td>\n",
       "      <td>-0.335655</td>\n",
       "      <td>-0.227488</td>\n",
       "      <td>0.023197</td>\n",
       "    </tr>\n",
       "    <tr>\n",
       "      <td>LandContour</td>\n",
       "      <td>-0.046166</td>\n",
       "      <td>0.071177</td>\n",
       "      <td>0.101612</td>\n",
       "      <td>1.000000</td>\n",
       "      <td>0.003185</td>\n",
       "      <td>-0.369721</td>\n",
       "      <td>0.052083</td>\n",
       "      <td>0.027888</td>\n",
       "      <td>0.024958</td>\n",
       "      <td>-0.008917</td>\n",
       "      <td>...</td>\n",
       "      <td>-0.023435</td>\n",
       "      <td>-0.019721</td>\n",
       "      <td>-0.077119</td>\n",
       "      <td>-0.031282</td>\n",
       "      <td>NaN</td>\n",
       "      <td>-0.064315</td>\n",
       "      <td>-0.024804</td>\n",
       "      <td>0.094468</td>\n",
       "      <td>0.034066</td>\n",
       "      <td>-0.000808</td>\n",
       "    </tr>\n",
       "    <tr>\n",
       "      <td>LotConfig</td>\n",
       "      <td>0.046413</td>\n",
       "      <td>-0.009761</td>\n",
       "      <td>0.158927</td>\n",
       "      <td>0.003185</td>\n",
       "      <td>1.000000</td>\n",
       "      <td>0.037558</td>\n",
       "      <td>-0.071287</td>\n",
       "      <td>0.081776</td>\n",
       "      <td>0.043905</td>\n",
       "      <td>0.106099</td>\n",
       "      <td>...</td>\n",
       "      <td>-0.069961</td>\n",
       "      <td>-0.010393</td>\n",
       "      <td>-0.041433</td>\n",
       "      <td>-0.022333</td>\n",
       "      <td>NaN</td>\n",
       "      <td>-0.015584</td>\n",
       "      <td>0.039553</td>\n",
       "      <td>0.020191</td>\n",
       "      <td>0.016447</td>\n",
       "      <td>-0.004622</td>\n",
       "    </tr>\n",
       "    <tr>\n",
       "      <td>...</td>\n",
       "      <td>...</td>\n",
       "      <td>...</td>\n",
       "      <td>...</td>\n",
       "      <td>...</td>\n",
       "      <td>...</td>\n",
       "      <td>...</td>\n",
       "      <td>...</td>\n",
       "      <td>...</td>\n",
       "      <td>...</td>\n",
       "      <td>...</td>\n",
       "      <td>...</td>\n",
       "      <td>...</td>\n",
       "      <td>...</td>\n",
       "      <td>...</td>\n",
       "      <td>...</td>\n",
       "      <td>...</td>\n",
       "      <td>...</td>\n",
       "      <td>...</td>\n",
       "      <td>...</td>\n",
       "      <td>...</td>\n",
       "      <td>...</td>\n",
       "    </tr>\n",
       "    <tr>\n",
       "      <td>ScreenPorch</td>\n",
       "      <td>0.007325</td>\n",
       "      <td>0.019377</td>\n",
       "      <td>-0.020865</td>\n",
       "      <td>-0.064315</td>\n",
       "      <td>-0.015584</td>\n",
       "      <td>0.075109</td>\n",
       "      <td>-0.014866</td>\n",
       "      <td>0.007841</td>\n",
       "      <td>0.032480</td>\n",
       "      <td>-0.043246</td>\n",
       "      <td>...</td>\n",
       "      <td>0.022233</td>\n",
       "      <td>0.033146</td>\n",
       "      <td>0.022334</td>\n",
       "      <td>-0.004897</td>\n",
       "      <td>NaN</td>\n",
       "      <td>1.000000</td>\n",
       "      <td>-0.030682</td>\n",
       "      <td>-0.031984</td>\n",
       "      <td>-0.053761</td>\n",
       "      <td>-0.023439</td>\n",
       "    </tr>\n",
       "    <tr>\n",
       "      <td>WoodDeckSF</td>\n",
       "      <td>-0.022380</td>\n",
       "      <td>0.036906</td>\n",
       "      <td>-0.181127</td>\n",
       "      <td>-0.024804</td>\n",
       "      <td>0.039553</td>\n",
       "      <td>0.080856</td>\n",
       "      <td>0.018333</td>\n",
       "      <td>0.026935</td>\n",
       "      <td>0.038570</td>\n",
       "      <td>-0.051779</td>\n",
       "      <td>...</td>\n",
       "      <td>0.019488</td>\n",
       "      <td>0.043058</td>\n",
       "      <td>0.270790</td>\n",
       "      <td>0.123409</td>\n",
       "      <td>NaN</td>\n",
       "      <td>-0.030682</td>\n",
       "      <td>1.000000</td>\n",
       "      <td>0.233889</td>\n",
       "      <td>0.230724</td>\n",
       "      <td>-0.022818</td>\n",
       "    </tr>\n",
       "    <tr>\n",
       "      <td>YearBuilt</td>\n",
       "      <td>-0.314849</td>\n",
       "      <td>0.102993</td>\n",
       "      <td>-0.335655</td>\n",
       "      <td>0.094468</td>\n",
       "      <td>0.020191</td>\n",
       "      <td>-0.001516</td>\n",
       "      <td>0.122516</td>\n",
       "      <td>0.167909</td>\n",
       "      <td>0.066761</td>\n",
       "      <td>0.218346</td>\n",
       "      <td>...</td>\n",
       "      <td>0.208040</td>\n",
       "      <td>-0.361027</td>\n",
       "      <td>0.621910</td>\n",
       "      <td>-0.001060</td>\n",
       "      <td>NaN</td>\n",
       "      <td>-0.031984</td>\n",
       "      <td>0.233889</td>\n",
       "      <td>1.000000</td>\n",
       "      <td>0.631696</td>\n",
       "      <td>-0.011006</td>\n",
       "    </tr>\n",
       "    <tr>\n",
       "      <td>YearRemodAdd</td>\n",
       "      <td>-0.207396</td>\n",
       "      <td>0.095309</td>\n",
       "      <td>-0.227488</td>\n",
       "      <td>0.034066</td>\n",
       "      <td>0.016447</td>\n",
       "      <td>-0.027562</td>\n",
       "      <td>0.149571</td>\n",
       "      <td>0.103760</td>\n",
       "      <td>0.065191</td>\n",
       "      <td>0.116531</td>\n",
       "      <td>...</td>\n",
       "      <td>0.258049</td>\n",
       "      <td>0.021668</td>\n",
       "      <td>0.591267</td>\n",
       "      <td>-0.034862</td>\n",
       "      <td>NaN</td>\n",
       "      <td>-0.053761</td>\n",
       "      <td>0.230724</td>\n",
       "      <td>0.631696</td>\n",
       "      <td>1.000000</td>\n",
       "      <td>0.029715</td>\n",
       "    </tr>\n",
       "    <tr>\n",
       "      <td>YrSold</td>\n",
       "      <td>-0.026208</td>\n",
       "      <td>-0.011372</td>\n",
       "      <td>0.023197</td>\n",
       "      <td>-0.000808</td>\n",
       "      <td>-0.004622</td>\n",
       "      <td>0.034387</td>\n",
       "      <td>0.026027</td>\n",
       "      <td>-0.048163</td>\n",
       "      <td>0.024320</td>\n",
       "      <td>0.014789</td>\n",
       "      <td>...</td>\n",
       "      <td>-0.017122</td>\n",
       "      <td>0.015649</td>\n",
       "      <td>-0.012291</td>\n",
       "      <td>-0.045185</td>\n",
       "      <td>NaN</td>\n",
       "      <td>-0.023439</td>\n",
       "      <td>-0.022818</td>\n",
       "      <td>-0.011006</td>\n",
       "      <td>0.029715</td>\n",
       "      <td>1.000000</td>\n",
       "    </tr>\n",
       "  </tbody>\n",
       "</table>\n",
       "<p>72 rows × 72 columns</p>\n",
       "</div>"
      ],
      "text/plain": [
       "              MSZoning    Street  LotShape  LandContour  LotConfig  LandSlope  \\\n",
       "MSZoning      1.000000  0.127835  0.127847    -0.046166   0.046413   0.061010   \n",
       "Street        0.127835  1.000000 -0.024938     0.071177  -0.009761   0.013366   \n",
       "LotShape      0.127847 -0.024938  1.000000     0.101612   0.158927  -0.073471   \n",
       "LandContour  -0.046166  0.071177  0.101612     1.000000   0.003185  -0.369721   \n",
       "LotConfig     0.046413 -0.009761  0.158927     0.003185   1.000000   0.037558   \n",
       "...                ...       ...       ...          ...        ...        ...   \n",
       "ScreenPorch   0.007325  0.019377 -0.020865    -0.064315  -0.015584   0.075109   \n",
       "WoodDeckSF   -0.022380  0.036906 -0.181127    -0.024804   0.039553   0.080856   \n",
       "YearBuilt    -0.314849  0.102993 -0.335655     0.094468   0.020191  -0.001516   \n",
       "YearRemodAdd -0.207396  0.095309 -0.227488     0.034066   0.016447  -0.027562   \n",
       "YrSold       -0.026208 -0.011372  0.023197    -0.000808  -0.004622   0.034387   \n",
       "\n",
       "              Neighborhood  Condition1  Condition2  BldgType  ...  \\\n",
       "MSZoning         -0.272622   -0.029552   -0.047838 -0.056300  ...   \n",
       "Street            0.041305   -0.057285   -0.001844  0.027415  ...   \n",
       "LotShape         -0.059434   -0.110854    0.002429  0.031113  ...   \n",
       "LandContour       0.052083    0.027888    0.024958 -0.008917  ...   \n",
       "LotConfig        -0.071287    0.081776    0.043905  0.106099  ...   \n",
       "...                    ...         ...         ...       ...  ...   \n",
       "ScreenPorch      -0.014866    0.007841    0.032480 -0.043246  ...   \n",
       "WoodDeckSF        0.018333    0.026935    0.038570 -0.051779  ...   \n",
       "YearBuilt         0.122516    0.167909    0.066761  0.218346  ...   \n",
       "YearRemodAdd      0.149571    0.103760    0.065191  0.116531  ...   \n",
       "YrSold            0.026027   -0.048163    0.024320  0.014789  ...   \n",
       "\n",
       "              OpenPorchSF  OverallCond  OverallQual  PoolArea  SalePrice  \\\n",
       "MSZoning        -0.193811     0.178650    -0.180130 -0.002237        NaN   \n",
       "Street           0.019890    -0.006514     0.085549  0.003677        NaN   \n",
       "LotShape        -0.098891     0.125375    -0.325026 -0.006675        NaN   \n",
       "LandContour     -0.023435    -0.019721    -0.077119 -0.031282        NaN   \n",
       "LotConfig       -0.069961    -0.010393    -0.041433 -0.022333        NaN   \n",
       "...                   ...          ...          ...       ...        ...   \n",
       "ScreenPorch      0.022233     0.033146     0.022334 -0.004897        NaN   \n",
       "WoodDeckSF       0.019488     0.043058     0.270790  0.123409        NaN   \n",
       "YearBuilt        0.208040    -0.361027     0.621910 -0.001060        NaN   \n",
       "YearRemodAdd     0.258049     0.021668     0.591267 -0.034862        NaN   \n",
       "YrSold          -0.017122     0.015649    -0.012291 -0.045185        NaN   \n",
       "\n",
       "              ScreenPorch  WoodDeckSF  YearBuilt  YearRemodAdd    YrSold  \n",
       "MSZoning         0.007325   -0.022380  -0.314849     -0.207396 -0.026208  \n",
       "Street           0.019377    0.036906   0.102993      0.095309 -0.011372  \n",
       "LotShape        -0.020865   -0.181127  -0.335655     -0.227488  0.023197  \n",
       "LandContour     -0.064315   -0.024804   0.094468      0.034066 -0.000808  \n",
       "LotConfig       -0.015584    0.039553   0.020191      0.016447 -0.004622  \n",
       "...                   ...         ...        ...           ...       ...  \n",
       "ScreenPorch      1.000000   -0.030682  -0.031984     -0.053761 -0.023439  \n",
       "WoodDeckSF      -0.030682    1.000000   0.233889      0.230724 -0.022818  \n",
       "YearBuilt       -0.031984    0.233889   1.000000      0.631696 -0.011006  \n",
       "YearRemodAdd    -0.053761    0.230724   0.631696      1.000000  0.029715  \n",
       "YrSold          -0.023439   -0.022818  -0.011006      0.029715  1.000000  \n",
       "\n",
       "[72 rows x 72 columns]"
      ]
     },
     "execution_count": 49,
     "metadata": {},
     "output_type": "execute_result"
    }
   ],
   "source": [
    "Train_data.corr()"
   ]
  },
  {
   "cell_type": "code",
   "execution_count": 50,
   "metadata": {},
   "outputs": [],
   "source": [
    "Test_data.SalePrice=np.log1p(Test_data.SalePrice)"
   ]
  },
  {
   "cell_type": "code",
   "execution_count": 51,
   "metadata": {},
   "outputs": [],
   "source": [
    "Test_data.GrLivArea=np.log1p(Test_data.GrLivArea)"
   ]
  },
  {
   "cell_type": "code",
   "execution_count": 52,
   "metadata": {},
   "outputs": [],
   "source": [
    "Train_data.GrLivArea=np.log1p(Train_data.GrLivArea)"
   ]
  },
  {
   "cell_type": "code",
   "execution_count": 53,
   "metadata": {},
   "outputs": [],
   "source": [
    "Test_data['1stFlrSF']=np.log1p(Test_data['1stFlrSF'])"
   ]
  },
  {
   "cell_type": "code",
   "execution_count": 54,
   "metadata": {},
   "outputs": [],
   "source": [
    "Train_data['1stFlrSF']=np.log1p(Train_data['1stFlrSF'])"
   ]
  },
  {
   "cell_type": "code",
   "execution_count": 55,
   "metadata": {},
   "outputs": [],
   "source": [
    "from sklearn.linear_model import LinearRegression"
   ]
  },
  {
   "cell_type": "code",
   "execution_count": 56,
   "metadata": {},
   "outputs": [
    {
     "data": {
      "text/plain": [
       "LinearRegression(copy_X=True, fit_intercept=True, n_jobs=None, normalize=False)"
      ]
     },
     "execution_count": 56,
     "metadata": {},
     "output_type": "execute_result"
    }
   ],
   "source": [
    "model=LinearRegression()\n",
    "model.fit(Test_data.drop(columns=['SalePrice']),Test_data.SalePrice)"
   ]
  },
  {
   "cell_type": "code",
   "execution_count": 57,
   "metadata": {},
   "outputs": [],
   "source": [
    "Predictor=Train_data.drop(columns=['SalePrice'])"
   ]
  },
  {
   "cell_type": "code",
   "execution_count": 58,
   "metadata": {},
   "outputs": [],
   "source": [
    "result=model.predict(Predictor)"
   ]
  },
  {
   "cell_type": "code",
   "execution_count": 59,
   "metadata": {},
   "outputs": [],
   "source": [
    "df1=pd.DataFrame(result)"
   ]
  },
  {
   "cell_type": "code",
   "execution_count": 60,
   "metadata": {},
   "outputs": [],
   "source": [
    "df1=np.expm1(df1)"
   ]
  },
  {
   "cell_type": "code",
   "execution_count": 61,
   "metadata": {},
   "outputs": [],
   "source": [
    "final=pd.read_csv('F:/ML/Projects/House Prices Advanced Regression Techniques/test.csv')"
   ]
  },
  {
   "cell_type": "code",
   "execution_count": 62,
   "metadata": {},
   "outputs": [],
   "source": [
    "sample_submission=pd.concat([final.Id,df1],axis=1)"
   ]
  },
  {
   "cell_type": "code",
   "execution_count": 63,
   "metadata": {},
   "outputs": [],
   "source": [
    "sample_submission.to_csv('F:/ML/Projects/House Prices Advanced Regression Techniques/sample_submission.csv',index=False)"
   ]
  },
  {
   "cell_type": "code",
   "execution_count": null,
   "metadata": {},
   "outputs": [],
   "source": []
  },
  {
   "cell_type": "code",
   "execution_count": null,
   "metadata": {},
   "outputs": [],
   "source": []
  }
 ],
 "metadata": {
  "kernelspec": {
   "display_name": "Python 3",
   "language": "python",
   "name": "python3"
  },
  "language_info": {
   "codemirror_mode": {
    "name": "ipython",
    "version": 3
   },
   "file_extension": ".py",
   "mimetype": "text/x-python",
   "name": "python",
   "nbconvert_exporter": "python",
   "pygments_lexer": "ipython3",
   "version": "3.7.4"
  }
 },
 "nbformat": 4,
 "nbformat_minor": 2
}
