{
 "cells": [
  {
   "cell_type": "code",
   "execution_count": 2,
   "metadata": {},
   "outputs": [],
   "source": [
    "import pandas as pd\n",
    "import numpy as np\n",
    "import matplotlib.pyplot as plt\n",
    "\n",
    "import warnings\n",
    "warnings.filterwarnings('ignore')\n",
    "\n",
    "train=pd.read_csv('F:/ML/Projects/House Prices Advanced Regression Techniques/train.csv')\n",
    "test=pd.read_csv('F:/ML/Projects/House Prices Advanced Regression Techniques/test.csv')\n",
    "\n"
   ]
  },
  {
   "cell_type": "code",
   "execution_count": 3,
   "metadata": {},
   "outputs": [],
   "source": [
    "train_Id=train.Id\n",
    "test_Id=test.Id\n",
    "\n",
    "train.drop(columns='Id',inplace=True)\n",
    "test.drop(columns='Id',inplace=True)"
   ]
  },
  {
   "cell_type": "code",
   "execution_count": 4,
   "metadata": {},
   "outputs": [],
   "source": [
    "train_cat= train.select_dtypes(include='object')"
   ]
  },
  {
   "cell_type": "code",
   "execution_count": 5,
   "metadata": {},
   "outputs": [],
   "source": [
    "train_num=train.select_dtypes(exclude='object')"
   ]
  },
  {
   "cell_type": "code",
   "execution_count": 6,
   "metadata": {},
   "outputs": [],
   "source": [
    "test_cat= test.select_dtypes(include='object')"
   ]
  },
  {
   "cell_type": "code",
   "execution_count": 7,
   "metadata": {},
   "outputs": [],
   "source": [
    "test_num=test.select_dtypes(exclude='object')"
   ]
  },
  {
   "cell_type": "code",
   "execution_count": 8,
   "metadata": {},
   "outputs": [],
   "source": [
    "train_cat.drop(columns=['PoolQC','MiscFeature','Alley','Fence'],inplace=True)"
   ]
  },
  {
   "cell_type": "code",
   "execution_count": 9,
   "metadata": {},
   "outputs": [],
   "source": [
    "test_cat.drop(columns=['PoolQC','MiscFeature','Alley','Fence'],inplace=True)"
   ]
  },
  {
   "cell_type": "code",
   "execution_count": 10,
   "metadata": {},
   "outputs": [],
   "source": [
    "train_num.LotFrontage.fillna(train_num.LotFrontage.median(),inplace=True)\n",
    "train_num.GarageYrBlt.fillna(train_num.GarageYrBlt.median(),inplace=True)\n",
    "train_num.MasVnrArea.fillna(train_num.MasVnrArea.median(),inplace=True)"
   ]
  },
  {
   "cell_type": "code",
   "execution_count": 11,
   "metadata": {},
   "outputs": [],
   "source": [
    "test_num.LotFrontage.fillna(test_num.LotFrontage.median(),inplace=True)\n",
    "test_num.GarageYrBlt.fillna(test_num.GarageYrBlt.median(),inplace=True)\n",
    "test_num.MasVnrArea.fillna(test_num.MasVnrArea.median(),inplace=True)\n",
    "test_num.BsmtHalfBath.fillna(test_num.BsmtHalfBath.median(),inplace=True)\n",
    "test_num.BsmtFullBath.fillna(test_num.BsmtFullBath.median(),inplace=True)\n",
    "test_num.GarageArea.fillna(test_num.GarageArea.median(),inplace=True)\n",
    "test_num.BsmtFinSF1.fillna(test_num.BsmtFinSF1.median(),inplace=True)\n",
    "test_num.BsmtFinSF2.fillna(test_num.BsmtFinSF2.median(),inplace=True)\n",
    "test_num.BsmtUnfSF.fillna(test_num.BsmtUnfSF.median(),inplace=True)\n",
    "test_num.TotalBsmtSF.fillna(test_num.TotalBsmtSF.median(),inplace=True)\n",
    "test_num.GarageCars.fillna(test_num.GarageCars.median(),inplace=True)"
   ]
  },
  {
   "cell_type": "code",
   "execution_count": 12,
   "metadata": {},
   "outputs": [],
   "source": [
    "train_cat.FireplaceQu.fillna('Gd',inplace=True)\n",
    "train_cat.GarageCond.fillna('TA',inplace=True)\n",
    "train_cat.GarageQual.fillna('TA',inplace=True)\n",
    "train_cat.GarageFinish.fillna('Unf',inplace=True)\n",
    "train_cat.GarageType.fillna('Attchd',inplace=True)\n",
    "train_cat.BsmtExposure.fillna('No',inplace=True)\n",
    "train_cat.BsmtFinType2.fillna('Unf',inplace=True)\n",
    "train_cat.BsmtQual.fillna('TA',inplace=True)\n",
    "train_cat.BsmtCond.fillna('TA',inplace=True)\n",
    "train_cat.BsmtFinType1.fillna('Unf',inplace=True)\n",
    "train_cat.MasVnrType.fillna('None',inplace=True)\n",
    "train_cat.Electrical.fillna('SBrkr',inplace=True)"
   ]
  },
  {
   "cell_type": "code",
   "execution_count": 13,
   "metadata": {},
   "outputs": [],
   "source": [
    "test_cat.FireplaceQu.fillna('Gd',inplace=True)\n",
    "test_cat.GarageCond.fillna('TA',inplace=True)\n",
    "test_cat.GarageQual.fillna('TA',inplace=True)\n",
    "test_cat.GarageFinish.fillna('Unf',inplace=True)\n",
    "test_cat.GarageType.fillna('Attchd',inplace=True)\n",
    "test_cat.BsmtExposure.fillna('No',inplace=True)\n",
    "test_cat.BsmtFinType2.fillna('Unf',inplace=True)\n",
    "test_cat.BsmtQual.fillna('TA',inplace=True)\n",
    "test_cat.BsmtCond.fillna('TA',inplace=True)\n",
    "test_cat.BsmtFinType1.fillna('Unf',inplace=True)\n",
    "test_cat.MasVnrType.fillna('None',inplace=True)\n",
    "test_cat.Electrical.fillna('SBrkr',inplace=True)\n",
    "test_cat.MSZoning.fillna('RL',inplace=True)\n",
    "test_cat.Functional.fillna('Typ',inplace=True)\n",
    "test_cat.Utilities.fillna('AllPub',inplace=True)\n",
    "test_cat.Exterior1st.fillna('VinylSd',inplace=True)\n",
    "test_cat.Exterior2nd.fillna('VinylSd',inplace=True)\n",
    "test_cat.KitchenQual.fillna('TA',inplace=True)\n",
    "test_cat.SaleType.fillna('WD',inplace=True)\n"
   ]
  },
  {
   "cell_type": "code",
   "execution_count": 14,
   "metadata": {},
   "outputs": [
    {
     "data": {
      "text/plain": [
       "SalePrice        0\n",
       "BsmtHalfBath     0\n",
       "GrLivArea        0\n",
       "LowQualFinSF     0\n",
       "2ndFlrSF         0\n",
       "1stFlrSF         0\n",
       "TotalBsmtSF      0\n",
       "BsmtUnfSF        0\n",
       "BsmtFinSF2       0\n",
       "BsmtFinSF1       0\n",
       "MasVnrArea       0\n",
       "YearRemodAdd     0\n",
       "YearBuilt        0\n",
       "OverallCond      0\n",
       "OverallQual      0\n",
       "LotArea          0\n",
       "LotFrontage      0\n",
       "BsmtFullBath     0\n",
       "FullBath         0\n",
       "YrSold           0\n",
       "HalfBath         0\n",
       "MoSold           0\n",
       "MiscVal          0\n",
       "PoolArea         0\n",
       "ScreenPorch      0\n",
       "3SsnPorch        0\n",
       "EnclosedPorch    0\n",
       "OpenPorchSF      0\n",
       "WoodDeckSF       0\n",
       "GarageArea       0\n",
       "GarageCars       0\n",
       "GarageYrBlt      0\n",
       "Fireplaces       0\n",
       "TotRmsAbvGrd     0\n",
       "KitchenAbvGr     0\n",
       "BedroomAbvGr     0\n",
       "MSSubClass       0\n",
       "dtype: int64"
      ]
     },
     "execution_count": 14,
     "metadata": {},
     "output_type": "execute_result"
    }
   ],
   "source": [
    "train_num.isnull().sum().sort_values(ascending=False)"
   ]
  },
  {
   "cell_type": "code",
   "execution_count": 15,
   "metadata": {},
   "outputs": [],
   "source": [
    "combined_cat=pd.concat([train_cat,test_cat],axis=0)"
   ]
  },
  {
   "cell_type": "code",
   "execution_count": 16,
   "metadata": {},
   "outputs": [
    {
     "data": {
      "text/plain": [
       "(2919, 39)"
      ]
     },
     "execution_count": 16,
     "metadata": {},
     "output_type": "execute_result"
    }
   ],
   "source": [
    "combined_cat.shape"
   ]
  },
  {
   "cell_type": "code",
   "execution_count": 17,
   "metadata": {},
   "outputs": [],
   "source": [
    "dummy=pd.get_dummies(combined_cat,drop_first=True)"
   ]
  },
  {
   "cell_type": "code",
   "execution_count": 18,
   "metadata": {},
   "outputs": [
    {
     "data": {
      "text/plain": [
       "(2919, 200)"
      ]
     },
     "execution_count": 18,
     "metadata": {},
     "output_type": "execute_result"
    }
   ],
   "source": [
    "dummy.shape"
   ]
  },
  {
   "cell_type": "code",
   "execution_count": 19,
   "metadata": {},
   "outputs": [],
   "source": [
    "combined_num=pd.concat([train_num,test_num],axis=0)"
   ]
  },
  {
   "cell_type": "code",
   "execution_count": 20,
   "metadata": {},
   "outputs": [
    {
     "data": {
      "text/plain": [
       "(2919, 37)"
      ]
     },
     "execution_count": 20,
     "metadata": {},
     "output_type": "execute_result"
    }
   ],
   "source": [
    "combined_num.shape"
   ]
  },
  {
   "cell_type": "code",
   "execution_count": 24,
   "metadata": {},
   "outputs": [],
   "source": [
    "All_combined=pd.concat([dummy,combined_num],axis=1)"
   ]
  },
  {
   "cell_type": "code",
   "execution_count": 25,
   "metadata": {},
   "outputs": [
    {
     "data": {
      "text/plain": [
       "(2919, 237)"
      ]
     },
     "execution_count": 25,
     "metadata": {},
     "output_type": "execute_result"
    }
   ],
   "source": [
    "All_combined.shape"
   ]
  },
  {
   "cell_type": "code",
   "execution_count": 26,
   "metadata": {},
   "outputs": [
    {
     "data": {
      "text/plain": [
       "1459"
      ]
     },
     "execution_count": 26,
     "metadata": {},
     "output_type": "execute_result"
    }
   ],
   "source": [
    "All_combined.SalePrice.isnull().sum()"
   ]
  },
  {
   "cell_type": "code",
   "execution_count": 27,
   "metadata": {},
   "outputs": [
    {
     "data": {
      "text/plain": [
       "SalePrice              1459\n",
       "YrSold                    0\n",
       "RoofMatl_CompShg          0\n",
       "Exterior1st_HdBoard       0\n",
       "Exterior1st_CemntBd       0\n",
       "Exterior1st_CBlock        0\n",
       "Exterior1st_BrkFace       0\n",
       "Exterior1st_BrkComm       0\n",
       "Exterior1st_AsphShn       0\n",
       "RoofMatl_WdShngl          0\n",
       "RoofMatl_WdShake          0\n",
       "RoofMatl_Tar&Grv          0\n",
       "RoofMatl_Roll             0\n",
       "RoofMatl_Metal            0\n",
       "RoofMatl_Membran          0\n",
       "RoofStyle_Shed            0\n",
       "Exterior1st_MetalSd       0\n",
       "RoofStyle_Mansard         0\n",
       "RoofStyle_Hip             0\n",
       "RoofStyle_Gambrel         0\n",
       "RoofStyle_Gable           0\n",
       "HouseStyle_SLvl           0\n",
       "HouseStyle_SFoyer         0\n",
       "HouseStyle_2Story         0\n",
       "HouseStyle_2.5Unf         0\n",
       "HouseStyle_2.5Fin         0\n",
       "HouseStyle_1Story         0\n",
       "HouseStyle_1.5Unf         0\n",
       "BldgType_TwnhsE           0\n",
       "Exterior1st_ImStucc       0\n",
       "Exterior1st_Plywood       0\n",
       "BldgType_Duplex           0\n",
       "Exterior2nd_Plywood       0\n",
       "ExterCond_Fa              0\n",
       "ExterQual_TA              0\n",
       "ExterQual_Gd              0\n",
       "ExterQual_Fa              0\n",
       "MasVnrType_Stone          0\n",
       "MasVnrType_None           0\n",
       "MasVnrType_BrkFace        0\n",
       "Exterior2nd_Wd Shng       0\n",
       "Exterior2nd_Wd Sdng       0\n",
       "Exterior2nd_VinylSd       0\n",
       "Exterior2nd_Stucco        0\n",
       "Exterior2nd_Stone         0\n",
       "Exterior2nd_Other         0\n",
       "Exterior1st_Stone         0\n",
       "Exterior2nd_MetalSd       0\n",
       "Exterior2nd_ImStucc       0\n",
       "Exterior2nd_HdBoard       0\n",
       "dtype: int64"
      ]
     },
     "execution_count": 27,
     "metadata": {},
     "output_type": "execute_result"
    }
   ],
   "source": [
    "All_combined.isnull().sum().sort_values(ascending=False).head(50)"
   ]
  },
  {
   "cell_type": "code",
   "execution_count": 28,
   "metadata": {},
   "outputs": [],
   "source": [
    "Train_data=All_combined[All_combined.SalePrice.isnull()]"
   ]
  },
  {
   "cell_type": "code",
   "execution_count": 29,
   "metadata": {},
   "outputs": [
    {
     "data": {
      "text/plain": [
       "1459"
      ]
     },
     "execution_count": 29,
     "metadata": {},
     "output_type": "execute_result"
    }
   ],
   "source": [
    "Train_data.SalePrice.isnull().sum()"
   ]
  },
  {
   "cell_type": "code",
   "execution_count": 30,
   "metadata": {},
   "outputs": [],
   "source": [
    "Train_data.to_csv('F:/ML/Projects/House Prices Advanced Regression Techniques/Train_data.csv',index=False)"
   ]
  },
  {
   "cell_type": "code",
   "execution_count": 31,
   "metadata": {},
   "outputs": [],
   "source": [
    "Test_data=All_combined[All_combined.SalePrice.notnull()]"
   ]
  },
  {
   "cell_type": "code",
   "execution_count": 32,
   "metadata": {},
   "outputs": [],
   "source": [
    "Test_data.to_csv('F:/ML/Projects/House Prices Advanced Regression Techniques/Test_data.csv',index=False)"
   ]
  },
  {
   "cell_type": "code",
   "execution_count": 33,
   "metadata": {},
   "outputs": [
    {
     "data": {
      "text/plain": [
       "YrSold                 0\n",
       "RoofMatl_CompShg       0\n",
       "Exterior1st_HdBoard    0\n",
       "Exterior1st_CemntBd    0\n",
       "Exterior1st_CBlock     0\n",
       "                      ..\n",
       "Electrical_FuseF       0\n",
       "CentralAir_Y           0\n",
       "HeatingQC_TA           0\n",
       "HeatingQC_Po           0\n",
       "MSZoning_FV            0\n",
       "Length: 237, dtype: int64"
      ]
     },
     "execution_count": 33,
     "metadata": {},
     "output_type": "execute_result"
    }
   ],
   "source": [
    "Test_data.isnull().sum().sort_values(ascending=False)"
   ]
  },
  {
   "cell_type": "code",
   "execution_count": 34,
   "metadata": {},
   "outputs": [],
   "source": [
    "from sklearn.linear_model import LinearRegression"
   ]
  },
  {
   "cell_type": "code",
   "execution_count": 35,
   "metadata": {},
   "outputs": [
    {
     "data": {
      "text/plain": [
       "LinearRegression(copy_X=True, fit_intercept=True, n_jobs=None, normalize=False)"
      ]
     },
     "execution_count": 35,
     "metadata": {},
     "output_type": "execute_result"
    }
   ],
   "source": [
    "model=LinearRegression()\n",
    "model.fit(Test_data.drop(columns=['SalePrice']),Test_data.SalePrice)"
   ]
  },
  {
   "cell_type": "code",
   "execution_count": 36,
   "metadata": {},
   "outputs": [],
   "source": [
    "Predictor=Train_data.drop(columns=['SalePrice'])"
   ]
  },
  {
   "cell_type": "code",
   "execution_count": 37,
   "metadata": {},
   "outputs": [],
   "source": [
    "result=model.predict(Predictor)"
   ]
  },
  {
   "cell_type": "code",
   "execution_count": 39,
   "metadata": {},
   "outputs": [],
   "source": [
    "df1=pd.DataFrame(result)"
   ]
  },
  {
   "cell_type": "code",
   "execution_count": 40,
   "metadata": {},
   "outputs": [
    {
     "data": {
      "text/plain": [
       "pandas.core.frame.DataFrame"
      ]
     },
     "execution_count": 40,
     "metadata": {},
     "output_type": "execute_result"
    }
   ],
   "source": [
    "type(df1)"
   ]
  },
  {
   "cell_type": "code",
   "execution_count": 41,
   "metadata": {},
   "outputs": [],
   "source": [
    "final=pd.read_csv('F:/ML/Projects/House Prices Advanced Regression Techniques/test.csv')"
   ]
  },
  {
   "cell_type": "code",
   "execution_count": 42,
   "metadata": {},
   "outputs": [],
   "source": [
    "sample_submission=pd.concat([final.Id,df1],axis=1)"
   ]
  },
  {
   "cell_type": "code",
   "execution_count": 43,
   "metadata": {},
   "outputs": [],
   "source": [
    "sample_submission.to_csv('F:/ML/Projects/House Prices Advanced Regression Techniques/sample_submission.csv',index=False)"
   ]
  },
  {
   "cell_type": "code",
   "execution_count": null,
   "metadata": {},
   "outputs": [],
   "source": []
  }
 ],
 "metadata": {
  "kernelspec": {
   "display_name": "Python 3",
   "language": "python",
   "name": "python3"
  },
  "language_info": {
   "codemirror_mode": {
    "name": "ipython",
    "version": 3
   },
   "file_extension": ".py",
   "mimetype": "text/x-python",
   "name": "python",
   "nbconvert_exporter": "python",
   "pygments_lexer": "ipython3",
   "version": "3.7.4"
  }
 },
 "nbformat": 4,
 "nbformat_minor": 2
}
